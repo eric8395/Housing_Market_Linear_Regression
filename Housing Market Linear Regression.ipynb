{
 "cells": [
  {
   "cell_type": "markdown",
   "metadata": {},
   "source": [
    "# Housing Market - Linear Regression Analysis\n",
    "\n",
    "### Eric Au"
   ]
  },
  {
   "cell_type": "markdown",
   "metadata": {},
   "source": [
    "### The Business Problem: \n",
    "\n",
    "The King County Housing Authority (KCHA) wants to look into building a new community of family homes in King County (located in Washington State and near Seattle). Along with the King Contractors (KC), the KCHA needs a better idea on what metrics influence the sale price of a home and would like to get a sense of how to price these homes. KCHA and KC would like to bring on engineers and architects to assist with the design of these homes but need to understand how the sale price of the home will change depending on the design parameters. \n",
    "\n",
    "**The intention is to develop a sale price algorithm to help set a target price for a new housing development in King County.** \n",
    "\n",
    " - The main purpose of this algorithm is predictive, meaning that the model should be able to take in attributes of a home that does not yet have a set price, and to predict a sale price for that home. \n",
    " \n",
    "\n",
    " - We will also take a look at the model's attributes and explain possible relationships between the attributes of a home and its price. \n",
    "\n",
    "Other issues to consider:\n",
    "- KCHA would also like to set aside percentage development of homes for low-income affordable housing. KCHA have defined a home to qualify for affordable housing if it sells for less than $300,000 (RESEARCH AND CONFIRM THIS). What type of home build would best accomodate low income housing?\n",
    "\n",
    "\n",
    "**Stakeholders:** The King County Housing Authority (KCHA), King Contractors (KC), prospective architects and engineers. \n",
    "\n"
   ]
  },
  {
   "cell_type": "markdown",
   "metadata": {},
   "source": [
    "## 1. Initial Dataset Assessment"
   ]
  },
  {
   "cell_type": "markdown",
   "metadata": {},
   "source": [
    "### Library Imports"
   ]
  },
  {
   "cell_type": "code",
   "execution_count": 81,
   "metadata": {},
   "outputs": [],
   "source": [
    "# Basic imports\n",
    "from IPython.display import Markdown, display\n",
    "import numpy as np\n",
    "import pandas as pd\n",
    "from scipy.stats import kurtosis, skew\n",
    "\n",
    "# Data visualizations\n",
    "import matplotlib.pyplot as plt\n",
    "import seaborn as sns\n",
    "plt.style.use('ggplot')\n",
    "\n",
    "# Pre-Processing\n",
    "from sklearn.model_selection import train_test_split\n",
    "from sklearn.preprocessing import StandardScaler\n",
    "from sklearn.preprocessing import OneHotEncoder\n",
    "\n",
    "# Metrics\n",
    "from sklearn.linear_model import LinearRegression\n",
    "from sklearn.model_selection import cross_validate, ShuffleSplit\n",
    "import statsmodels.api as sm\n",
    "from sklearn.metrics import r2_score, mean_squared_error, mean_absolute_error\n",
    "\n",
    "# ignore warnings\n",
    "import warnings\n",
    "warnings.simplefilter(action='ignore', category=FutureWarning)\n",
    "pd.options.mode.chained_assignment = None "
   ]
  },
  {
   "cell_type": "markdown",
   "metadata": {},
   "source": [
    "### What does the data look like?\n",
    "Lets first load in the data set for housing data in King County and then perform some initial glimpses into the dataset. "
   ]
  },
  {
   "cell_type": "code",
   "execution_count": 82,
   "metadata": {},
   "outputs": [
    {
     "data": {
      "text/html": [
       "<div>\n",
       "<style scoped>\n",
       "    .dataframe tbody tr th:only-of-type {\n",
       "        vertical-align: middle;\n",
       "    }\n",
       "\n",
       "    .dataframe tbody tr th {\n",
       "        vertical-align: top;\n",
       "    }\n",
       "\n",
       "    .dataframe thead th {\n",
       "        text-align: right;\n",
       "    }\n",
       "</style>\n",
       "<table border=\"1\" class=\"dataframe\">\n",
       "  <thead>\n",
       "    <tr style=\"text-align: right;\">\n",
       "      <th></th>\n",
       "      <th>id</th>\n",
       "      <th>date</th>\n",
       "      <th>price</th>\n",
       "      <th>bedrooms</th>\n",
       "      <th>bathrooms</th>\n",
       "      <th>sqft_living</th>\n",
       "      <th>sqft_lot</th>\n",
       "      <th>floors</th>\n",
       "      <th>waterfront</th>\n",
       "      <th>view</th>\n",
       "      <th>condition</th>\n",
       "      <th>grade</th>\n",
       "      <th>sqft_above</th>\n",
       "      <th>sqft_basement</th>\n",
       "      <th>yr_built</th>\n",
       "      <th>yr_renovated</th>\n",
       "      <th>zipcode</th>\n",
       "      <th>lat</th>\n",
       "      <th>long</th>\n",
       "      <th>sqft_living15</th>\n",
       "      <th>sqft_lot15</th>\n",
       "    </tr>\n",
       "  </thead>\n",
       "  <tbody>\n",
       "    <tr>\n",
       "      <th>0</th>\n",
       "      <td>7129300520</td>\n",
       "      <td>10/13/2014</td>\n",
       "      <td>221900.0</td>\n",
       "      <td>3</td>\n",
       "      <td>1.00</td>\n",
       "      <td>1180</td>\n",
       "      <td>5650</td>\n",
       "      <td>1.0</td>\n",
       "      <td>NaN</td>\n",
       "      <td>NONE</td>\n",
       "      <td>Average</td>\n",
       "      <td>7 Average</td>\n",
       "      <td>1180</td>\n",
       "      <td>0.0</td>\n",
       "      <td>1955</td>\n",
       "      <td>0.0</td>\n",
       "      <td>98178</td>\n",
       "      <td>47.5112</td>\n",
       "      <td>-122.257</td>\n",
       "      <td>1340</td>\n",
       "      <td>5650</td>\n",
       "    </tr>\n",
       "    <tr>\n",
       "      <th>1</th>\n",
       "      <td>6414100192</td>\n",
       "      <td>12/9/2014</td>\n",
       "      <td>538000.0</td>\n",
       "      <td>3</td>\n",
       "      <td>2.25</td>\n",
       "      <td>2570</td>\n",
       "      <td>7242</td>\n",
       "      <td>2.0</td>\n",
       "      <td>NO</td>\n",
       "      <td>NONE</td>\n",
       "      <td>Average</td>\n",
       "      <td>7 Average</td>\n",
       "      <td>2170</td>\n",
       "      <td>400.0</td>\n",
       "      <td>1951</td>\n",
       "      <td>1991.0</td>\n",
       "      <td>98125</td>\n",
       "      <td>47.7210</td>\n",
       "      <td>-122.319</td>\n",
       "      <td>1690</td>\n",
       "      <td>7639</td>\n",
       "    </tr>\n",
       "    <tr>\n",
       "      <th>2</th>\n",
       "      <td>5631500400</td>\n",
       "      <td>2/25/2015</td>\n",
       "      <td>180000.0</td>\n",
       "      <td>2</td>\n",
       "      <td>1.00</td>\n",
       "      <td>770</td>\n",
       "      <td>10000</td>\n",
       "      <td>1.0</td>\n",
       "      <td>NO</td>\n",
       "      <td>NONE</td>\n",
       "      <td>Average</td>\n",
       "      <td>6 Low Average</td>\n",
       "      <td>770</td>\n",
       "      <td>0.0</td>\n",
       "      <td>1933</td>\n",
       "      <td>NaN</td>\n",
       "      <td>98028</td>\n",
       "      <td>47.7379</td>\n",
       "      <td>-122.233</td>\n",
       "      <td>2720</td>\n",
       "      <td>8062</td>\n",
       "    </tr>\n",
       "    <tr>\n",
       "      <th>3</th>\n",
       "      <td>2487200875</td>\n",
       "      <td>12/9/2014</td>\n",
       "      <td>604000.0</td>\n",
       "      <td>4</td>\n",
       "      <td>3.00</td>\n",
       "      <td>1960</td>\n",
       "      <td>5000</td>\n",
       "      <td>1.0</td>\n",
       "      <td>NO</td>\n",
       "      <td>NONE</td>\n",
       "      <td>Very Good</td>\n",
       "      <td>7 Average</td>\n",
       "      <td>1050</td>\n",
       "      <td>910.0</td>\n",
       "      <td>1965</td>\n",
       "      <td>0.0</td>\n",
       "      <td>98136</td>\n",
       "      <td>47.5208</td>\n",
       "      <td>-122.393</td>\n",
       "      <td>1360</td>\n",
       "      <td>5000</td>\n",
       "    </tr>\n",
       "    <tr>\n",
       "      <th>4</th>\n",
       "      <td>1954400510</td>\n",
       "      <td>2/18/2015</td>\n",
       "      <td>510000.0</td>\n",
       "      <td>3</td>\n",
       "      <td>2.00</td>\n",
       "      <td>1680</td>\n",
       "      <td>8080</td>\n",
       "      <td>1.0</td>\n",
       "      <td>NO</td>\n",
       "      <td>NONE</td>\n",
       "      <td>Average</td>\n",
       "      <td>8 Good</td>\n",
       "      <td>1680</td>\n",
       "      <td>0.0</td>\n",
       "      <td>1987</td>\n",
       "      <td>0.0</td>\n",
       "      <td>98074</td>\n",
       "      <td>47.6168</td>\n",
       "      <td>-122.045</td>\n",
       "      <td>1800</td>\n",
       "      <td>7503</td>\n",
       "    </tr>\n",
       "    <tr>\n",
       "      <th>...</th>\n",
       "      <td>...</td>\n",
       "      <td>...</td>\n",
       "      <td>...</td>\n",
       "      <td>...</td>\n",
       "      <td>...</td>\n",
       "      <td>...</td>\n",
       "      <td>...</td>\n",
       "      <td>...</td>\n",
       "      <td>...</td>\n",
       "      <td>...</td>\n",
       "      <td>...</td>\n",
       "      <td>...</td>\n",
       "      <td>...</td>\n",
       "      <td>...</td>\n",
       "      <td>...</td>\n",
       "      <td>...</td>\n",
       "      <td>...</td>\n",
       "      <td>...</td>\n",
       "      <td>...</td>\n",
       "      <td>...</td>\n",
       "      <td>...</td>\n",
       "    </tr>\n",
       "    <tr>\n",
       "      <th>21592</th>\n",
       "      <td>263000018</td>\n",
       "      <td>5/21/2014</td>\n",
       "      <td>360000.0</td>\n",
       "      <td>3</td>\n",
       "      <td>2.50</td>\n",
       "      <td>1530</td>\n",
       "      <td>1131</td>\n",
       "      <td>3.0</td>\n",
       "      <td>NO</td>\n",
       "      <td>NONE</td>\n",
       "      <td>Average</td>\n",
       "      <td>8 Good</td>\n",
       "      <td>1530</td>\n",
       "      <td>0.0</td>\n",
       "      <td>2009</td>\n",
       "      <td>0.0</td>\n",
       "      <td>98103</td>\n",
       "      <td>47.6993</td>\n",
       "      <td>-122.346</td>\n",
       "      <td>1530</td>\n",
       "      <td>1509</td>\n",
       "    </tr>\n",
       "    <tr>\n",
       "      <th>21593</th>\n",
       "      <td>6600060120</td>\n",
       "      <td>2/23/2015</td>\n",
       "      <td>400000.0</td>\n",
       "      <td>4</td>\n",
       "      <td>2.50</td>\n",
       "      <td>2310</td>\n",
       "      <td>5813</td>\n",
       "      <td>2.0</td>\n",
       "      <td>NO</td>\n",
       "      <td>NONE</td>\n",
       "      <td>Average</td>\n",
       "      <td>8 Good</td>\n",
       "      <td>2310</td>\n",
       "      <td>0.0</td>\n",
       "      <td>2014</td>\n",
       "      <td>0.0</td>\n",
       "      <td>98146</td>\n",
       "      <td>47.5107</td>\n",
       "      <td>-122.362</td>\n",
       "      <td>1830</td>\n",
       "      <td>7200</td>\n",
       "    </tr>\n",
       "    <tr>\n",
       "      <th>21594</th>\n",
       "      <td>1523300141</td>\n",
       "      <td>6/23/2014</td>\n",
       "      <td>402101.0</td>\n",
       "      <td>2</td>\n",
       "      <td>0.75</td>\n",
       "      <td>1020</td>\n",
       "      <td>1350</td>\n",
       "      <td>2.0</td>\n",
       "      <td>NO</td>\n",
       "      <td>NONE</td>\n",
       "      <td>Average</td>\n",
       "      <td>7 Average</td>\n",
       "      <td>1020</td>\n",
       "      <td>0.0</td>\n",
       "      <td>2009</td>\n",
       "      <td>0.0</td>\n",
       "      <td>98144</td>\n",
       "      <td>47.5944</td>\n",
       "      <td>-122.299</td>\n",
       "      <td>1020</td>\n",
       "      <td>2007</td>\n",
       "    </tr>\n",
       "    <tr>\n",
       "      <th>21595</th>\n",
       "      <td>291310100</td>\n",
       "      <td>1/16/2015</td>\n",
       "      <td>400000.0</td>\n",
       "      <td>3</td>\n",
       "      <td>2.50</td>\n",
       "      <td>1600</td>\n",
       "      <td>2388</td>\n",
       "      <td>2.0</td>\n",
       "      <td>NaN</td>\n",
       "      <td>NONE</td>\n",
       "      <td>Average</td>\n",
       "      <td>8 Good</td>\n",
       "      <td>1600</td>\n",
       "      <td>0.0</td>\n",
       "      <td>2004</td>\n",
       "      <td>0.0</td>\n",
       "      <td>98027</td>\n",
       "      <td>47.5345</td>\n",
       "      <td>-122.069</td>\n",
       "      <td>1410</td>\n",
       "      <td>1287</td>\n",
       "    </tr>\n",
       "    <tr>\n",
       "      <th>21596</th>\n",
       "      <td>1523300157</td>\n",
       "      <td>10/15/2014</td>\n",
       "      <td>325000.0</td>\n",
       "      <td>2</td>\n",
       "      <td>0.75</td>\n",
       "      <td>1020</td>\n",
       "      <td>1076</td>\n",
       "      <td>2.0</td>\n",
       "      <td>NO</td>\n",
       "      <td>NONE</td>\n",
       "      <td>Average</td>\n",
       "      <td>7 Average</td>\n",
       "      <td>1020</td>\n",
       "      <td>0.0</td>\n",
       "      <td>2008</td>\n",
       "      <td>0.0</td>\n",
       "      <td>98144</td>\n",
       "      <td>47.5941</td>\n",
       "      <td>-122.299</td>\n",
       "      <td>1020</td>\n",
       "      <td>1357</td>\n",
       "    </tr>\n",
       "  </tbody>\n",
       "</table>\n",
       "<p>21597 rows × 21 columns</p>\n",
       "</div>"
      ],
      "text/plain": [
       "               id        date     price  bedrooms  bathrooms  sqft_living  \\\n",
       "0      7129300520  10/13/2014  221900.0         3       1.00         1180   \n",
       "1      6414100192   12/9/2014  538000.0         3       2.25         2570   \n",
       "2      5631500400   2/25/2015  180000.0         2       1.00          770   \n",
       "3      2487200875   12/9/2014  604000.0         4       3.00         1960   \n",
       "4      1954400510   2/18/2015  510000.0         3       2.00         1680   \n",
       "...           ...         ...       ...       ...        ...          ...   \n",
       "21592   263000018   5/21/2014  360000.0         3       2.50         1530   \n",
       "21593  6600060120   2/23/2015  400000.0         4       2.50         2310   \n",
       "21594  1523300141   6/23/2014  402101.0         2       0.75         1020   \n",
       "21595   291310100   1/16/2015  400000.0         3       2.50         1600   \n",
       "21596  1523300157  10/15/2014  325000.0         2       0.75         1020   \n",
       "\n",
       "       sqft_lot  floors waterfront  view  condition          grade  \\\n",
       "0          5650     1.0        NaN  NONE    Average      7 Average   \n",
       "1          7242     2.0         NO  NONE    Average      7 Average   \n",
       "2         10000     1.0         NO  NONE    Average  6 Low Average   \n",
       "3          5000     1.0         NO  NONE  Very Good      7 Average   \n",
       "4          8080     1.0         NO  NONE    Average         8 Good   \n",
       "...         ...     ...        ...   ...        ...            ...   \n",
       "21592      1131     3.0         NO  NONE    Average         8 Good   \n",
       "21593      5813     2.0         NO  NONE    Average         8 Good   \n",
       "21594      1350     2.0         NO  NONE    Average      7 Average   \n",
       "21595      2388     2.0        NaN  NONE    Average         8 Good   \n",
       "21596      1076     2.0         NO  NONE    Average      7 Average   \n",
       "\n",
       "       sqft_above sqft_basement  yr_built  yr_renovated  zipcode      lat  \\\n",
       "0            1180           0.0      1955           0.0    98178  47.5112   \n",
       "1            2170         400.0      1951        1991.0    98125  47.7210   \n",
       "2             770           0.0      1933           NaN    98028  47.7379   \n",
       "3            1050         910.0      1965           0.0    98136  47.5208   \n",
       "4            1680           0.0      1987           0.0    98074  47.6168   \n",
       "...           ...           ...       ...           ...      ...      ...   \n",
       "21592        1530           0.0      2009           0.0    98103  47.6993   \n",
       "21593        2310           0.0      2014           0.0    98146  47.5107   \n",
       "21594        1020           0.0      2009           0.0    98144  47.5944   \n",
       "21595        1600           0.0      2004           0.0    98027  47.5345   \n",
       "21596        1020           0.0      2008           0.0    98144  47.5941   \n",
       "\n",
       "          long  sqft_living15  sqft_lot15  \n",
       "0     -122.257           1340        5650  \n",
       "1     -122.319           1690        7639  \n",
       "2     -122.233           2720        8062  \n",
       "3     -122.393           1360        5000  \n",
       "4     -122.045           1800        7503  \n",
       "...        ...            ...         ...  \n",
       "21592 -122.346           1530        1509  \n",
       "21593 -122.362           1830        7200  \n",
       "21594 -122.299           1020        2007  \n",
       "21595 -122.069           1410        1287  \n",
       "21596 -122.299           1020        1357  \n",
       "\n",
       "[21597 rows x 21 columns]"
      ]
     },
     "execution_count": 82,
     "metadata": {},
     "output_type": "execute_result"
    }
   ],
   "source": [
    "# to just show all columns moving forward\n",
    "pd.set_option('display.max_columns', None)\n",
    "\n",
    "# load in dataset\n",
    "df = pd.read_csv('data/kc_house_data.csv')\n",
    "df"
   ]
  },
  {
   "cell_type": "markdown",
   "metadata": {},
   "source": [
    "For further reference in this project, the following markdown file was also provided to give context and description to the columns. "
   ]
  },
  {
   "cell_type": "code",
   "execution_count": 83,
   "metadata": {},
   "outputs": [
    {
     "data": {
      "text/markdown": [
       "# Column Names and Descriptions for King County Data Set\n",
       "* `id` - Unique identifier for a house\n",
       "* `date` - Date house was sold\n",
       "* `price` - Sale price (prediction target)\n",
       "* `bedrooms` - Number of bedrooms\n",
       "* `bathrooms` - Number of bathrooms\n",
       "* `sqft_living` - Square footage of living space in the home\n",
       "* `sqft_lot` - Square footage of the lot\n",
       "* `floors` - Number of floors (levels) in house\n",
       "* `waterfront` - Whether the house is on a waterfront\n",
       "  * Includes Duwamish, Elliott Bay, Puget Sound, Lake Union, Ship Canal, Lake Washington, Lake Sammamish, other lake, and river/slough waterfronts\n",
       "* `view` - Quality of view from house\n",
       "  * Includes views of Mt. Rainier, Olympics, Cascades, Territorial, Seattle Skyline, Puget Sound, Lake Washington, Lake Sammamish, small lake / river / creek, and other\n",
       "* `condition` - How good the overall condition of the house is. Related to maintenance of house.\n",
       "  * See the [King County Assessor Website](https://info.kingcounty.gov/assessor/esales/Glossary.aspx?type=r) for further explanation of each condition code\n",
       "* `grade` - Overall grade of the house. Related to the construction and design of the house.\n",
       "  * See the [King County Assessor Website](https://info.kingcounty.gov/assessor/esales/Glossary.aspx?type=r) for further explanation of each building grade code\n",
       "* `sqft_above` - Square footage of house apart from basement\n",
       "* `sqft_basement` - Square footage of the basement\n",
       "* `yr_built` - Year when house was built\n",
       "* `yr_renovated` - Year when house was renovated\n",
       "* `zipcode` - ZIP Code used by the United States Postal Service\n",
       "* `lat` - Latitude coordinate\n",
       "* `long` - Longitude coordinate\n",
       "* `sqft_living15` - The square footage of interior housing living space for the nearest 15 neighbors\n",
       "* `sqft_lot15` - The square footage of the land lots of the nearest 15 neighbors\n"
      ],
      "text/plain": [
       "<IPython.core.display.Markdown object>"
      ]
     },
     "metadata": {},
     "output_type": "display_data"
    }
   ],
   "source": [
    "# load in the markdown file for column names and descriptions\n",
    "display(Markdown(\"data/column_names.md\"))"
   ]
  },
  {
   "cell_type": "code",
   "execution_count": 84,
   "metadata": {},
   "outputs": [
    {
     "name": "stdout",
     "output_type": "stream",
     "text": [
      "We have 21597 rows and 21 columns in our dataset.\n"
     ]
    }
   ],
   "source": [
    "print('We have', df.shape[0], 'rows and', df.shape[1], 'columns in our dataset.')"
   ]
  },
  {
   "cell_type": "code",
   "execution_count": 85,
   "metadata": {},
   "outputs": [
    {
     "name": "stdout",
     "output_type": "stream",
     "text": [
      "<class 'pandas.core.frame.DataFrame'>\n",
      "RangeIndex: 21597 entries, 0 to 21596\n",
      "Data columns (total 21 columns):\n",
      " #   Column         Non-Null Count  Dtype  \n",
      "---  ------         --------------  -----  \n",
      " 0   id             21597 non-null  int64  \n",
      " 1   date           21597 non-null  object \n",
      " 2   price          21597 non-null  float64\n",
      " 3   bedrooms       21597 non-null  int64  \n",
      " 4   bathrooms      21597 non-null  float64\n",
      " 5   sqft_living    21597 non-null  int64  \n",
      " 6   sqft_lot       21597 non-null  int64  \n",
      " 7   floors         21597 non-null  float64\n",
      " 8   waterfront     19221 non-null  object \n",
      " 9   view           21534 non-null  object \n",
      " 10  condition      21597 non-null  object \n",
      " 11  grade          21597 non-null  object \n",
      " 12  sqft_above     21597 non-null  int64  \n",
      " 13  sqft_basement  21597 non-null  object \n",
      " 14  yr_built       21597 non-null  int64  \n",
      " 15  yr_renovated   17755 non-null  float64\n",
      " 16  zipcode        21597 non-null  int64  \n",
      " 17  lat            21597 non-null  float64\n",
      " 18  long           21597 non-null  float64\n",
      " 19  sqft_living15  21597 non-null  int64  \n",
      " 20  sqft_lot15     21597 non-null  int64  \n",
      "dtypes: float64(6), int64(9), object(6)\n",
      "memory usage: 3.5+ MB\n"
     ]
    }
   ],
   "source": [
    "df.info()"
   ]
  },
  {
   "cell_type": "markdown",
   "metadata": {},
   "source": [
    "First we notice that there are missing values for the following columns: `waterfront`, `view`, and `yr_renovated`. We will check this further during the cleaning phase. \n",
    "\n",
    "Additionally, we have mainly float or integer type columns with several columns that are categorical variables and are classified as object types (6 total). I may also want to change the `date` to a datetime datatype moving forward. "
   ]
  },
  {
   "cell_type": "code",
   "execution_count": 86,
   "metadata": {},
   "outputs": [
    {
     "data": {
      "text/html": [
       "<div>\n",
       "<style scoped>\n",
       "    .dataframe tbody tr th:only-of-type {\n",
       "        vertical-align: middle;\n",
       "    }\n",
       "\n",
       "    .dataframe tbody tr th {\n",
       "        vertical-align: top;\n",
       "    }\n",
       "\n",
       "    .dataframe thead th {\n",
       "        text-align: right;\n",
       "    }\n",
       "</style>\n",
       "<table border=\"1\" class=\"dataframe\">\n",
       "  <thead>\n",
       "    <tr style=\"text-align: right;\">\n",
       "      <th></th>\n",
       "      <th>id</th>\n",
       "      <th>price</th>\n",
       "      <th>bedrooms</th>\n",
       "      <th>bathrooms</th>\n",
       "      <th>sqft_living</th>\n",
       "      <th>sqft_lot</th>\n",
       "      <th>floors</th>\n",
       "      <th>sqft_above</th>\n",
       "      <th>yr_built</th>\n",
       "      <th>yr_renovated</th>\n",
       "      <th>zipcode</th>\n",
       "      <th>lat</th>\n",
       "      <th>long</th>\n",
       "      <th>sqft_living15</th>\n",
       "      <th>sqft_lot15</th>\n",
       "    </tr>\n",
       "  </thead>\n",
       "  <tbody>\n",
       "    <tr>\n",
       "      <th>count</th>\n",
       "      <td>2.159700e+04</td>\n",
       "      <td>2.159700e+04</td>\n",
       "      <td>21597.000000</td>\n",
       "      <td>21597.000000</td>\n",
       "      <td>21597.000000</td>\n",
       "      <td>2.159700e+04</td>\n",
       "      <td>21597.000000</td>\n",
       "      <td>21597.000000</td>\n",
       "      <td>21597.000000</td>\n",
       "      <td>17755.000000</td>\n",
       "      <td>21597.000000</td>\n",
       "      <td>21597.000000</td>\n",
       "      <td>21597.000000</td>\n",
       "      <td>21597.000000</td>\n",
       "      <td>21597.000000</td>\n",
       "    </tr>\n",
       "    <tr>\n",
       "      <th>mean</th>\n",
       "      <td>4.580474e+09</td>\n",
       "      <td>5.402966e+05</td>\n",
       "      <td>3.373200</td>\n",
       "      <td>2.115826</td>\n",
       "      <td>2080.321850</td>\n",
       "      <td>1.509941e+04</td>\n",
       "      <td>1.494096</td>\n",
       "      <td>1788.596842</td>\n",
       "      <td>1970.999676</td>\n",
       "      <td>83.636778</td>\n",
       "      <td>98077.951845</td>\n",
       "      <td>47.560093</td>\n",
       "      <td>-122.213982</td>\n",
       "      <td>1986.620318</td>\n",
       "      <td>12758.283512</td>\n",
       "    </tr>\n",
       "    <tr>\n",
       "      <th>std</th>\n",
       "      <td>2.876736e+09</td>\n",
       "      <td>3.673681e+05</td>\n",
       "      <td>0.926299</td>\n",
       "      <td>0.768984</td>\n",
       "      <td>918.106125</td>\n",
       "      <td>4.141264e+04</td>\n",
       "      <td>0.539683</td>\n",
       "      <td>827.759761</td>\n",
       "      <td>29.375234</td>\n",
       "      <td>399.946414</td>\n",
       "      <td>53.513072</td>\n",
       "      <td>0.138552</td>\n",
       "      <td>0.140724</td>\n",
       "      <td>685.230472</td>\n",
       "      <td>27274.441950</td>\n",
       "    </tr>\n",
       "    <tr>\n",
       "      <th>min</th>\n",
       "      <td>1.000102e+06</td>\n",
       "      <td>7.800000e+04</td>\n",
       "      <td>1.000000</td>\n",
       "      <td>0.500000</td>\n",
       "      <td>370.000000</td>\n",
       "      <td>5.200000e+02</td>\n",
       "      <td>1.000000</td>\n",
       "      <td>370.000000</td>\n",
       "      <td>1900.000000</td>\n",
       "      <td>0.000000</td>\n",
       "      <td>98001.000000</td>\n",
       "      <td>47.155900</td>\n",
       "      <td>-122.519000</td>\n",
       "      <td>399.000000</td>\n",
       "      <td>651.000000</td>\n",
       "    </tr>\n",
       "    <tr>\n",
       "      <th>25%</th>\n",
       "      <td>2.123049e+09</td>\n",
       "      <td>3.220000e+05</td>\n",
       "      <td>3.000000</td>\n",
       "      <td>1.750000</td>\n",
       "      <td>1430.000000</td>\n",
       "      <td>5.040000e+03</td>\n",
       "      <td>1.000000</td>\n",
       "      <td>1190.000000</td>\n",
       "      <td>1951.000000</td>\n",
       "      <td>0.000000</td>\n",
       "      <td>98033.000000</td>\n",
       "      <td>47.471100</td>\n",
       "      <td>-122.328000</td>\n",
       "      <td>1490.000000</td>\n",
       "      <td>5100.000000</td>\n",
       "    </tr>\n",
       "    <tr>\n",
       "      <th>50%</th>\n",
       "      <td>3.904930e+09</td>\n",
       "      <td>4.500000e+05</td>\n",
       "      <td>3.000000</td>\n",
       "      <td>2.250000</td>\n",
       "      <td>1910.000000</td>\n",
       "      <td>7.618000e+03</td>\n",
       "      <td>1.500000</td>\n",
       "      <td>1560.000000</td>\n",
       "      <td>1975.000000</td>\n",
       "      <td>0.000000</td>\n",
       "      <td>98065.000000</td>\n",
       "      <td>47.571800</td>\n",
       "      <td>-122.231000</td>\n",
       "      <td>1840.000000</td>\n",
       "      <td>7620.000000</td>\n",
       "    </tr>\n",
       "    <tr>\n",
       "      <th>75%</th>\n",
       "      <td>7.308900e+09</td>\n",
       "      <td>6.450000e+05</td>\n",
       "      <td>4.000000</td>\n",
       "      <td>2.500000</td>\n",
       "      <td>2550.000000</td>\n",
       "      <td>1.068500e+04</td>\n",
       "      <td>2.000000</td>\n",
       "      <td>2210.000000</td>\n",
       "      <td>1997.000000</td>\n",
       "      <td>0.000000</td>\n",
       "      <td>98118.000000</td>\n",
       "      <td>47.678000</td>\n",
       "      <td>-122.125000</td>\n",
       "      <td>2360.000000</td>\n",
       "      <td>10083.000000</td>\n",
       "    </tr>\n",
       "    <tr>\n",
       "      <th>max</th>\n",
       "      <td>9.900000e+09</td>\n",
       "      <td>7.700000e+06</td>\n",
       "      <td>33.000000</td>\n",
       "      <td>8.000000</td>\n",
       "      <td>13540.000000</td>\n",
       "      <td>1.651359e+06</td>\n",
       "      <td>3.500000</td>\n",
       "      <td>9410.000000</td>\n",
       "      <td>2015.000000</td>\n",
       "      <td>2015.000000</td>\n",
       "      <td>98199.000000</td>\n",
       "      <td>47.777600</td>\n",
       "      <td>-121.315000</td>\n",
       "      <td>6210.000000</td>\n",
       "      <td>871200.000000</td>\n",
       "    </tr>\n",
       "  </tbody>\n",
       "</table>\n",
       "</div>"
      ],
      "text/plain": [
       "                 id         price      bedrooms     bathrooms   sqft_living  \\\n",
       "count  2.159700e+04  2.159700e+04  21597.000000  21597.000000  21597.000000   \n",
       "mean   4.580474e+09  5.402966e+05      3.373200      2.115826   2080.321850   \n",
       "std    2.876736e+09  3.673681e+05      0.926299      0.768984    918.106125   \n",
       "min    1.000102e+06  7.800000e+04      1.000000      0.500000    370.000000   \n",
       "25%    2.123049e+09  3.220000e+05      3.000000      1.750000   1430.000000   \n",
       "50%    3.904930e+09  4.500000e+05      3.000000      2.250000   1910.000000   \n",
       "75%    7.308900e+09  6.450000e+05      4.000000      2.500000   2550.000000   \n",
       "max    9.900000e+09  7.700000e+06     33.000000      8.000000  13540.000000   \n",
       "\n",
       "           sqft_lot        floors    sqft_above      yr_built  yr_renovated  \\\n",
       "count  2.159700e+04  21597.000000  21597.000000  21597.000000  17755.000000   \n",
       "mean   1.509941e+04      1.494096   1788.596842   1970.999676     83.636778   \n",
       "std    4.141264e+04      0.539683    827.759761     29.375234    399.946414   \n",
       "min    5.200000e+02      1.000000    370.000000   1900.000000      0.000000   \n",
       "25%    5.040000e+03      1.000000   1190.000000   1951.000000      0.000000   \n",
       "50%    7.618000e+03      1.500000   1560.000000   1975.000000      0.000000   \n",
       "75%    1.068500e+04      2.000000   2210.000000   1997.000000      0.000000   \n",
       "max    1.651359e+06      3.500000   9410.000000   2015.000000   2015.000000   \n",
       "\n",
       "            zipcode           lat          long  sqft_living15     sqft_lot15  \n",
       "count  21597.000000  21597.000000  21597.000000   21597.000000   21597.000000  \n",
       "mean   98077.951845     47.560093   -122.213982    1986.620318   12758.283512  \n",
       "std       53.513072      0.138552      0.140724     685.230472   27274.441950  \n",
       "min    98001.000000     47.155900   -122.519000     399.000000     651.000000  \n",
       "25%    98033.000000     47.471100   -122.328000    1490.000000    5100.000000  \n",
       "50%    98065.000000     47.571800   -122.231000    1840.000000    7620.000000  \n",
       "75%    98118.000000     47.678000   -122.125000    2360.000000   10083.000000  \n",
       "max    98199.000000     47.777600   -121.315000    6210.000000  871200.000000  "
      ]
     },
     "execution_count": 86,
     "metadata": {},
     "output_type": "execute_result"
    }
   ],
   "source": [
    "# summary statistics\n",
    "df.describe()"
   ]
  },
  {
   "cell_type": "markdown",
   "metadata": {},
   "source": [
    "These are a few things we can take from this. Some that stand out: \n",
    "\n",
    "- The maximum amount of bedrooms is 33! This seems very high, unless we are talking about a mansion? Maybe this represents the total amount of bedrooms for an apartment complex?\n",
    "\n",
    "\n",
    "- The range for floors is between 1-3.5 floors. Can a building floor be designated by 0.5 increments? Typically no, but can examine closer. \n",
    "\n",
    "\n",
    "- Possible outliers in `sqft_living` as the max value is 13,540 SF. \n",
    "\n",
    "\n",
    "- The range for the `yr_built` is between 1900 and 2015. Additionally, there are likely many 0 values for `yr_renovated`; this could mean that the home was never renovated and a value of 0 was placed instead. "
   ]
  },
  {
   "cell_type": "markdown",
   "metadata": {},
   "source": [
    "### Preliminary Correlation\n",
    "\n",
    "Since we are trying to determine sale price of a home, we will look at the remaining variables as predictors. As a baseline, lets first look at a correlation between the sale price and predictors. "
   ]
  },
  {
   "cell_type": "code",
   "execution_count": 87,
   "metadata": {},
   "outputs": [
    {
     "data": {
      "image/png": "[encoded data removed]",
      "text/plain": [
       "<Figure size 1080x720 with 2 Axes>"
      ]
     },
     "metadata": {},
     "output_type": "display_data"
    }
   ],
   "source": [
    "# set up figure size\n",
    "fig, ax = plt.subplots(figsize=(15, 10))\n",
    "\n",
    "# set up correlation matrix\n",
    "corr = df.corr()\n",
    "\n",
    "sns.heatmap(corr, cmap = 'coolwarm', annot = True)\n",
    "\n",
    "# Customize the plot appearance\n",
    "ax.set_title(\"Heatmap of Correlation Between Predictors & Target Variable (price)\");\n",
    "\n",
    "plt.show()"
   ]
  },
  {
   "cell_type": "markdown",
   "metadata": {},
   "source": [
    "At this point before preprocessing and selecting any features to predict, we can see that the top 5 highest predictor correlations with price are `sqft_living`, `sqft_above`, `sqft_living15`, `bathrooms`, and `bathrooms` & `latitude` tied for 5th. \n",
    "\n",
    "However, these may be good predictor values for now, but we need to do some cleaning and preprocessing before we can interpret. There may also be multicollinearity between these variables. \n",
    "\n",
    "For now, lets set up a simple visualization and baseline model using `sqft_living` as it is the highest correlated predictor. "
   ]
  },
  {
   "cell_type": "code",
   "execution_count": 88,
   "metadata": {},
   "outputs": [
    {
     "data": {
      "image/png": "[encoded data removed]",
      "text/plain": [
       "<Figure size 576x432 with 1 Axes>"
      ]
     },
     "metadata": {},
     "output_type": "display_data"
    }
   ],
   "source": [
    "fig, ax = plt.subplots(figsize=(8, 6))\n",
    "\n",
    "sns.regplot(df['sqft_living'], df['price'], \n",
    "            scatter_kws={'s':2, 'alpha': 0.1}, \n",
    "            color = 'dodgerblue')\n",
    "\n",
    "# removes top and right side axis\n",
    "plt.gca().spines['top'].set_visible(False)\n",
    "plt.gca().spines['right'].set_visible(False)\n",
    "\n",
    "# set gridline visibility\n",
    "ax.set_axisbelow(True)\n",
    "ax.yaxis.grid(True, color='#EEEEEE')\n",
    "ax.xaxis.grid(False)\n",
    "\n",
    "ax.set_xlabel('sqft_living', weight = 'bold')\n",
    "ax.set_ylabel(\"price\", weight = 'bold')\n",
    "ax.set_title(\"Living Room SF vs. Price\", weight = 'bold');"
   ]
  },
  {
   "cell_type": "markdown",
   "metadata": {},
   "source": [
    "### Handle Initial Outliers - `Bedrooms`\n",
    "We initially saw that there was a property that has 33 total bedrooms. This is definitely an outlier as shown in the below histogram for the bedrooms. "
   ]
  },
  {
   "cell_type": "code",
   "execution_count": 89,
   "metadata": {},
   "outputs": [
    {
     "data": {
      "image/png": "[encoded data removed]",
      "text/plain": [
       "<Figure size 576x288 with 1 Axes>"
      ]
     },
     "metadata": {},
     "output_type": "display_data"
    }
   ],
   "source": [
    "# plot distribution of bedrooms in the dataset\n",
    "fig, ax = plt.subplots(figsize=(8, 4))\n",
    "\n",
    "sns.histplot(df['bedrooms'], bins = 60)\n",
    "plt.show()"
   ]
  },
  {
   "cell_type": "code",
   "execution_count": 90,
   "metadata": {},
   "outputs": [
    {
     "data": {
      "text/html": [
       "<div>\n",
       "<style scoped>\n",
       "    .dataframe tbody tr th:only-of-type {\n",
       "        vertical-align: middle;\n",
       "    }\n",
       "\n",
       "    .dataframe tbody tr th {\n",
       "        vertical-align: top;\n",
       "    }\n",
       "\n",
       "    .dataframe thead th {\n",
       "        text-align: right;\n",
       "    }\n",
       "</style>\n",
       "<table border=\"1\" class=\"dataframe\">\n",
       "  <thead>\n",
       "    <tr style=\"text-align: right;\">\n",
       "      <th></th>\n",
       "      <th>id</th>\n",
       "      <th>date</th>\n",
       "      <th>price</th>\n",
       "      <th>bedrooms</th>\n",
       "      <th>bathrooms</th>\n",
       "      <th>sqft_living</th>\n",
       "      <th>sqft_lot</th>\n",
       "      <th>floors</th>\n",
       "      <th>waterfront</th>\n",
       "      <th>view</th>\n",
       "      <th>condition</th>\n",
       "      <th>grade</th>\n",
       "      <th>sqft_above</th>\n",
       "      <th>sqft_basement</th>\n",
       "      <th>yr_built</th>\n",
       "      <th>yr_renovated</th>\n",
       "      <th>zipcode</th>\n",
       "      <th>lat</th>\n",
       "      <th>long</th>\n",
       "      <th>sqft_living15</th>\n",
       "      <th>sqft_lot15</th>\n",
       "    </tr>\n",
       "  </thead>\n",
       "  <tbody>\n",
       "    <tr>\n",
       "      <th>8748</th>\n",
       "      <td>1773100755</td>\n",
       "      <td>8/21/2014</td>\n",
       "      <td>520000.0</td>\n",
       "      <td>11</td>\n",
       "      <td>3.00</td>\n",
       "      <td>3000</td>\n",
       "      <td>4960</td>\n",
       "      <td>2.0</td>\n",
       "      <td>NO</td>\n",
       "      <td>NONE</td>\n",
       "      <td>Average</td>\n",
       "      <td>7 Average</td>\n",
       "      <td>2400</td>\n",
       "      <td>600.0</td>\n",
       "      <td>1918</td>\n",
       "      <td>1999.0</td>\n",
       "      <td>98106</td>\n",
       "      <td>47.5560</td>\n",
       "      <td>-122.363</td>\n",
       "      <td>1420</td>\n",
       "      <td>4960</td>\n",
       "    </tr>\n",
       "    <tr>\n",
       "      <th>15856</th>\n",
       "      <td>2402100895</td>\n",
       "      <td>6/25/2014</td>\n",
       "      <td>640000.0</td>\n",
       "      <td>33</td>\n",
       "      <td>1.75</td>\n",
       "      <td>1620</td>\n",
       "      <td>6000</td>\n",
       "      <td>1.0</td>\n",
       "      <td>NO</td>\n",
       "      <td>NONE</td>\n",
       "      <td>Very Good</td>\n",
       "      <td>7 Average</td>\n",
       "      <td>1040</td>\n",
       "      <td>580.0</td>\n",
       "      <td>1947</td>\n",
       "      <td>0.0</td>\n",
       "      <td>98103</td>\n",
       "      <td>47.6878</td>\n",
       "      <td>-122.331</td>\n",
       "      <td>1330</td>\n",
       "      <td>4700</td>\n",
       "    </tr>\n",
       "  </tbody>\n",
       "</table>\n",
       "</div>"
      ],
      "text/plain": [
       "               id       date     price  bedrooms  bathrooms  sqft_living  \\\n",
       "8748   1773100755  8/21/2014  520000.0        11       3.00         3000   \n",
       "15856  2402100895  6/25/2014  640000.0        33       1.75         1620   \n",
       "\n",
       "       sqft_lot  floors waterfront  view  condition      grade  sqft_above  \\\n",
       "8748       4960     2.0         NO  NONE    Average  7 Average        2400   \n",
       "15856      6000     1.0         NO  NONE  Very Good  7 Average        1040   \n",
       "\n",
       "      sqft_basement  yr_built  yr_renovated  zipcode      lat     long  \\\n",
       "8748          600.0      1918        1999.0    98106  47.5560 -122.363   \n",
       "15856         580.0      1947           0.0    98103  47.6878 -122.331   \n",
       "\n",
       "       sqft_living15  sqft_lot15  \n",
       "8748            1420        4960  \n",
       "15856           1330        4700  "
      ]
     },
     "execution_count": 90,
     "metadata": {},
     "output_type": "execute_result"
    }
   ],
   "source": [
    "# lets limit to 10 and find properties with more than 10 bedrooms. \n",
    "df[df['bedrooms'] > 10]"
   ]
  },
  {
   "cell_type": "markdown",
   "metadata": {},
   "source": [
    "There are two properties in the entire dataset with more than 10 bedrooms. This could influence our analysis later, so moving forward these rows will be removed from the dataset. "
   ]
  },
  {
   "cell_type": "code",
   "execution_count": 91,
   "metadata": {},
   "outputs": [],
   "source": [
    "# only include properties with less than or equal to 10 bedrooms\n",
    "df = df[df['bedrooms'] <= 10]"
   ]
  },
  {
   "cell_type": "code",
   "execution_count": 92,
   "metadata": {},
   "outputs": [
    {
     "data": {
      "text/plain": [
       "21595"
      ]
     },
     "execution_count": 92,
     "metadata": {},
     "output_type": "execute_result"
    }
   ],
   "source": [
    "# check to see we removed the two outliers; previously 21597 rows\n",
    "len(df)"
   ]
  },
  {
   "cell_type": "markdown",
   "metadata": {},
   "source": [
    "### Handle Initial Outliers - `sqft_living`"
   ]
  },
  {
   "cell_type": "code",
   "execution_count": 93,
   "metadata": {},
   "outputs": [
    {
     "data": {
      "image/png": "[encoded data removed]",
      "text/plain": [
       "<Figure size 576x288 with 1 Axes>"
      ]
     },
     "metadata": {},
     "output_type": "display_data"
    }
   ],
   "source": [
    "# plot distribution of sqft_living in the dataset\n",
    "fig, ax = plt.subplots(figsize=(8, 4))\n",
    "\n",
    "sns.histplot(df['sqft_living'], bins = 60)\n",
    "plt.show()"
   ]
  },
  {
   "cell_type": "code",
   "execution_count": 94,
   "metadata": {},
   "outputs": [
    {
     "data": {
      "text/plain": [
       "9"
      ]
     },
     "execution_count": 94,
     "metadata": {},
     "output_type": "execute_result"
    }
   ],
   "source": [
    "# lets limit to find properties with more than 8,000 SF in the living room\n",
    "# 8,000 set as a baseline based visually on long tailed distribution, and compared to mid 75%\n",
    "len(df[df['sqft_living'] > 8000])"
   ]
  },
  {
   "cell_type": "code",
   "execution_count": 95,
   "metadata": {},
   "outputs": [
    {
     "data": {
      "text/plain": [
       "21586"
      ]
     },
     "execution_count": 95,
     "metadata": {},
     "output_type": "execute_result"
    }
   ],
   "source": [
    "# only include properties with less than or equal to 8000 SF\n",
    "df = df[df['sqft_living'] <= 8000]\n",
    "len(df)"
   ]
  },
  {
   "cell_type": "markdown",
   "metadata": {},
   "source": [
    "### Test-Train Split\n",
    "\n",
    "The prediction target for this analysis is the sale price of the home, so the data will be separated into `X` and `y` accordingly: "
   ]
  },
  {
   "cell_type": "code",
   "execution_count": 96,
   "metadata": {},
   "outputs": [],
   "source": [
    "# set up our target variable for train-test split\n",
    "y = df[\"price\"]\n",
    "X = df.drop(\"price\", axis=1)"
   ]
  },
  {
   "cell_type": "code",
   "execution_count": 97,
   "metadata": {},
   "outputs": [],
   "source": [
    "# seprate the data into a train test split prior to performing preprocessing\n",
    "X_train, X_test, y_train, y_test = train_test_split(X, y, random_state=42)"
   ]
  },
  {
   "cell_type": "code",
   "execution_count": 98,
   "metadata": {},
   "outputs": [
    {
     "name": "stdout",
     "output_type": "stream",
     "text": [
      "X_train is a DataFrame with 16189 rows and 20 columns\n",
      "y_train is a Series with 16189 values\n"
     ]
    }
   ],
   "source": [
    "# double check train-test split \n",
    "print(f\"X_train is a DataFrame with {X_train.shape[0]} rows and {X_train.shape[1]} columns\")\n",
    "print(f\"y_train is a Series with {y_train.shape[0]} values\")\n",
    "\n",
    "# We always should have the same number of rows in X as values in y\n",
    "assert X_train.shape[0] == y_train.shape[0]"
   ]
  },
  {
   "cell_type": "markdown",
   "metadata": {},
   "source": [
    "### Baseline Model\n",
    "\n",
    "Since we first identified the `sqft_living` as the highest correlated predictor with our target variable `price`, lets test this predictor as a baseline model before proceeding with preprocessing and cleaning. "
   ]
  },
  {
   "cell_type": "code",
   "execution_count": 99,
   "metadata": {},
   "outputs": [],
   "source": [
    "# select our best correlated predictor, as our X Train\n",
    "base_X = X_train[['sqft_living']]\n",
    "\n",
    "# Do the same for X Test\n",
    "X_test = X_test[['sqft_living']]"
   ]
  },
  {
   "cell_type": "code",
   "execution_count": 100,
   "metadata": {},
   "outputs": [
    {
     "data": {
      "text/plain": [
       "LinearRegression()"
      ]
     },
     "execution_count": 100,
     "metadata": {},
     "output_type": "execute_result"
    }
   ],
   "source": [
    "# instantiate the baseline model\n",
    "baseline_model = LinearRegression()\n",
    "\n",
    "# Fit our model\n",
    "baseline_model.fit(base_X, y_train)"
   ]
  },
  {
   "cell_type": "code",
   "execution_count": 101,
   "metadata": {},
   "outputs": [
    {
     "name": "stdout",
     "output_type": "stream",
     "text": [
      "Base Training R2: 0.4848\n",
      "Base Test R2: 0.475\n",
      "\n",
      "Validation Check\n",
      "Base Train score:      0.4833\n",
      "Base Validation score: 0.4889\n",
      "\n",
      "Train Root Mean Squarred Error: 257795.89554923214\n",
      "Test Root Mean Squarred Error: 244080.3098780447\n",
      "Difference in RMSE for Test/Train: 13715.59\n"
     ]
    }
   ],
   "source": [
    "# Get our R2 score\n",
    "print('Base Training R2:', round(baseline_model.score(base_X, y_train), 4))\n",
    "print('Base Test R2:', round(baseline_model.score(X_test, y_test), 4))\n",
    "print()\n",
    "\n",
    "# set up a validation model \n",
    "splitter = ShuffleSplit(n_splits=5, test_size=0.25, random_state=0)\n",
    "\n",
    "baseline_scores = cross_validate(\n",
    "    estimator=baseline_model,\n",
    "    X=base_X,\n",
    "    y=y_train,\n",
    "    return_train_score=True,\n",
    "    cv=splitter\n",
    ")\n",
    "\n",
    "print(\"Validation Check\")\n",
    "print(\"Base Train score:     \", round(baseline_scores[\"train_score\"].mean(), 4))\n",
    "print(\"Base Validation score:\", round(baseline_scores[\"test_score\"].mean(), 4))\n",
    "print()\n",
    "\n",
    "# Calculate predictions on training and test sets\n",
    "train_preds = baseline_model.predict(base_X)\n",
    "test_preds = baseline_model.predict(X_test)\n",
    "\n",
    "# Calculate training and test MSE\n",
    "train_rmse = np.sqrt(mean_squared_error(y_train, train_preds))\n",
    "test_rmse = np.sqrt(mean_squared_error(y_test, test_preds))\n",
    "print('Train Root Mean Squarred Error:', train_rmse)\n",
    "print('Test Root Mean Squarred Error:', test_rmse)\n",
    "print('Difference in RMSE for Test/Train:', abs(round(test_rmse - train_rmse, 2)))"
   ]
  },
  {
   "cell_type": "markdown",
   "metadata": {},
   "source": [
    "So our baseline Coefficient of Determination, R2, is not that great right now at 0.48. We'll use this as a baseline moving forward and see if we can improve on this. \n",
    "\n",
    "The Training and Test scores are actually quite close to each other too, so this is pretty good and means the baseline model is not underfit. "
   ]
  },
  {
   "cell_type": "markdown",
   "metadata": {},
   "source": [
    "### Distribution of Price\n",
    "\n",
    "For curiosity, what does the distribution of the `price` look like?"
   ]
  },
  {
   "cell_type": "code",
   "execution_count": 102,
   "metadata": {},
   "outputs": [
    {
     "name": "stdout",
     "output_type": "stream",
     "text": [
      "skewness: 3.3470676064524394\n",
      "kurtosis: 19.562556399432843\n"
     ]
    },
    {
     "data": {
      "image/png": "[encoded data removed]",
      "text/plain": [
       "<Figure size 864x432 with 1 Axes>"
      ]
     },
     "metadata": {},
     "output_type": "display_data"
    }
   ],
   "source": [
    "fig, ax = plt.subplots(figsize=(12, 6))\n",
    "\n",
    "sns.histplot(y_train, bins=100)\n",
    "\n",
    "# removes top and right side axis\n",
    "plt.gca().spines['top'].set_visible(False)\n",
    "plt.gca().spines['right'].set_visible(False)\n",
    "\n",
    "# set gridline visibility\n",
    "ax.set_axisbelow(True)\n",
    "ax.yaxis.grid(True, color='#EEEEEE')\n",
    "ax.xaxis.grid(False)\n",
    "\n",
    "ax.set_xlabel(\"Home Sale Price\", weight = 'bold')\n",
    "ax.set_ylabel(\"Count\", weight = 'bold')\n",
    "ax.set_title(\"Distribution of Home Sale Price in King County\", weight = 'bold')\n",
    "\n",
    "print('skewness:', skew(y_train))\n",
    "print('kurtosis:', kurtosis(y_train));"
   ]
  },
  {
   "cell_type": "markdown",
   "metadata": {},
   "source": [
    "Based on this distribution we can conclude the following: \n",
    "\n",
    "- The sale price distribution is highly positively skewed with a long right tail due to outliers. \n",
    "\n",
    "- The sale price distribution looks normally distrbuted, so we may need to adjust for the outliers in this set. \n",
    "\n",
    "Lets scale the target variable `price` using a log function to have a more normalized distribution. "
   ]
  },
  {
   "cell_type": "code",
   "execution_count": 103,
   "metadata": {},
   "outputs": [
    {
     "name": "stdout",
     "output_type": "stream",
     "text": [
      "skewness: 0.4247839543928123\n",
      "kurtosis: 0.6238016955208985\n"
     ]
    },
    {
     "data": {
      "image/png": "[encoded data removed]",
      "text/plain": [
       "<Figure size 864x432 with 1 Axes>"
      ]
     },
     "metadata": {},
     "output_type": "display_data"
    }
   ],
   "source": [
    "# scale the target variable y\n",
    "y_train = np.log(y_train)\n",
    "\n",
    "fig, ax = plt.subplots(figsize=(12, 6))\n",
    "\n",
    "# replot the scaled y_train\n",
    "sns.histplot(y_train, bins=100)\n",
    "\n",
    "# removes top and right side axis\n",
    "plt.gca().spines['top'].set_visible(False)\n",
    "plt.gca().spines['right'].set_visible(False)\n",
    "\n",
    "# set gridline visibility\n",
    "ax.set_axisbelow(True)\n",
    "ax.yaxis.grid(True, color='#EEEEEE')\n",
    "ax.xaxis.grid(False)\n",
    "\n",
    "ax.set_xlabel(\"Scaled Home Sale Price\", weight = 'bold')\n",
    "ax.set_ylabel(\"Count\", weight = 'bold')\n",
    "ax.set_title(\"Distribution of Home Sale Price (Scaled) in King County\", weight = 'bold')\n",
    "\n",
    "print('skewness:', skew(y_train))\n",
    "print('kurtosis:', kurtosis(y_train));"
   ]
  },
  {
   "cell_type": "markdown",
   "metadata": {},
   "source": [
    "## 2. Initial Data Cleaning & Preprocessing"
   ]
  },
  {
   "cell_type": "markdown",
   "metadata": {},
   "source": [
    "Before performing an initial test-train model of the dataset, let's first clean the data types so that the data types are properly labeled. Currently the dataset is not in the right format so any fitting of a model will fail. \n",
    "\n",
    "- Convert `date` to datetime\n",
    "- Convert the `grade` to a numeric identifier\n",
    "- Convert `sqft_basement` to a integer\n",
    "- Drop some unnecessary columns (ie. `id`)"
   ]
  },
  {
   "cell_type": "markdown",
   "metadata": {},
   "source": [
    "#### Converting Date to datetime"
   ]
  },
  {
   "cell_type": "code",
   "execution_count": 104,
   "metadata": {},
   "outputs": [],
   "source": [
    "# convert to datetime\n",
    "X_train['date'] = pd.to_datetime(X_train['date'])"
   ]
  },
  {
   "cell_type": "markdown",
   "metadata": {},
   "source": [
    "Lets see what the dataset looks like when it comes to the range of data. We can visualize this further with the following histogram."
   ]
  },
  {
   "cell_type": "code",
   "execution_count": 105,
   "metadata": {},
   "outputs": [
    {
     "data": {
      "text/plain": [
       "9587    2014-05-02\n",
       "16754   2014-05-02\n",
       "21145   2014-05-02\n",
       "775     2014-05-02\n",
       "1040    2014-05-02\n",
       "           ...    \n",
       "20456   2015-05-14\n",
       "11548   2015-05-14\n",
       "5632    2015-05-15\n",
       "13040   2015-05-24\n",
       "16580   2015-05-27\n",
       "Name: date, Length: 16189, dtype: datetime64[ns]"
      ]
     },
     "execution_count": 105,
     "metadata": {},
     "output_type": "execute_result"
    }
   ],
   "source": [
    "X_train['date'].sort_values()"
   ]
  },
  {
   "cell_type": "code",
   "execution_count": 106,
   "metadata": {},
   "outputs": [
    {
     "data": {
      "image/png": "[encoded data removed]",
      "text/plain": [
       "<Figure size 720x360 with 1 Axes>"
      ]
     },
     "metadata": {},
     "output_type": "display_data"
    }
   ],
   "source": [
    "# simple plot to visualize distribution of sales throughout the datetime range\n",
    "fig, ax = plt.subplots(figsize=(10, 5))\n",
    "\n",
    "sns.histplot(X_train['date'])\n",
    "\n",
    "# set gridline visibility\n",
    "ax.set_axisbelow(True)\n",
    "ax.yaxis.grid(True, color='#EEEEEE')\n",
    "ax.xaxis.grid(False)\n",
    "\n",
    "ax.set_xlabel(\"Date\", weight = 'bold')\n",
    "ax.set_ylabel(\"Count\", weight = 'bold')\n",
    "ax.set_title(\"Distribution of Home Sale Price in King County by Date\", weight = 'bold')\n",
    "\n",
    "plt.tight_layout()\n",
    "plt.show()"
   ]
  },
  {
   "cell_type": "markdown",
   "metadata": {},
   "source": [
    "So based off this histogram of the data, it looks like the dataset ranges between May of 2014 up until May of 2015. A few takeaways for now: \n",
    "\n",
    "- There may be some missing data for late May\n",
    "\n",
    "- Based on the limited data, there may be a seasonal pattern for home sales there is a relative dip in sales during the winter months between November and March. \n",
    "\n",
    "\n",
    "However, moving foward, we will need to drop the `date` column since it will not be recognized in our model as a numerical column. "
   ]
  },
  {
   "cell_type": "code",
   "execution_count": 107,
   "metadata": {},
   "outputs": [],
   "source": [
    "# will need to drop the date column since this is not numerical\n",
    "X_train.drop(columns = 'date', inplace = True)"
   ]
  },
  {
   "cell_type": "markdown",
   "metadata": {},
   "source": [
    "#### Converting grade to numerical and as a categorical identifier value"
   ]
  },
  {
   "cell_type": "code",
   "execution_count": 108,
   "metadata": {},
   "outputs": [
    {
     "data": {
      "text/plain": [
       "18090    8\n",
       "19824    7\n",
       "9968     7\n",
       "20027    8\n",
       "2135     7\n",
       "        ..\n",
       "11971    7\n",
       "21586    6\n",
       "5393     9\n",
       "860      5\n",
       "15804    8\n",
       "Name: grade, Length: 16189, dtype: int64"
      ]
     },
     "execution_count": 108,
     "metadata": {},
     "output_type": "execute_result"
    }
   ],
   "source": [
    "# remove string categorical descriptions, \n",
    "X_train['grade'] = X_train['grade'].str.split(' ').str[0].str.strip()\n",
    "\n",
    "# convert to int type for all values in grade column\n",
    "X_train['grade'] = pd.to_numeric(X_train['grade']) \n",
    "\n",
    "X_train['grade']"
   ]
  },
  {
   "cell_type": "markdown",
   "metadata": {},
   "source": [
    "#### Converting `sq_basement` as a float & handling missing values"
   ]
  },
  {
   "cell_type": "markdown",
   "metadata": {},
   "source": [
    "Looking at `sq_basement`, we have object type data in the column. Upon closer investigation, there are 454 `?` values in the column, thus explaining the data type discrepancy.  "
   ]
  },
  {
   "cell_type": "code",
   "execution_count": 109,
   "metadata": {},
   "outputs": [
    {
     "data": {
      "text/plain": [
       "0.0       9628\n",
       "?          338\n",
       "800.0      164\n",
       "500.0      156\n",
       "700.0      150\n",
       "          ... \n",
       "1284.0       1\n",
       "792.0        1\n",
       "2300.0       1\n",
       "1920.0       1\n",
       "2490.0       1\n",
       "Name: sqft_basement, Length: 278, dtype: int64"
      ]
     },
     "execution_count": 109,
     "metadata": {},
     "output_type": "execute_result"
    }
   ],
   "source": [
    "X_train['sqft_basement'].value_counts()"
   ]
  },
  {
   "cell_type": "markdown",
   "metadata": {},
   "source": [
    "We also observe that there are 12826 values where the square footage of the basement is 0. Thus, implying that the property does not have a basement. Using this same logic, we can expect that values with `?` are unknown and that we cannot assume that there is a quantity for SF of that property. Lets replace these unknown values with 0. "
   ]
  },
  {
   "cell_type": "code",
   "execution_count": 110,
   "metadata": {},
   "outputs": [],
   "source": [
    "# replace all ? values with 0.0\n",
    "X_train['sqft_basement'] = X_train['sqft_basement'].replace({'?': 0.0})\n",
    "\n",
    "# replace all 0.0 strings as 0\n",
    "X_train['sqft_basement'] = X_train['sqft_basement'].replace({'0.0': 0})\n",
    "\n",
    "# convert to int type for all values in sqft_basement column\n",
    "X_train['sqft_basement'] = pd.to_numeric(X_train['sqft_basement']) \n"
   ]
  },
  {
   "cell_type": "code",
   "execution_count": 111,
   "metadata": {},
   "outputs": [
    {
     "data": {
      "text/plain": [
       "0.0       9966\n",
       "800.0      164\n",
       "500.0      156\n",
       "700.0      150\n",
       "600.0      147\n",
       "          ... \n",
       "2240.0       1\n",
       "176.0        1\n",
       "2490.0       1\n",
       "248.0        1\n",
       "2810.0       1\n",
       "Name: sqft_basement, Length: 277, dtype: int64"
      ]
     },
     "execution_count": 111,
     "metadata": {},
     "output_type": "execute_result"
    }
   ],
   "source": [
    "# double check changes\n",
    "X_train['sqft_basement'].value_counts()"
   ]
  },
  {
   "cell_type": "markdown",
   "metadata": {},
   "source": [
    "#### Dropping irrelevant columns"
   ]
  },
  {
   "cell_type": "code",
   "execution_count": 112,
   "metadata": {},
   "outputs": [
    {
     "data": {
      "text/html": [
       "<div>\n",
       "<style scoped>\n",
       "    .dataframe tbody tr th:only-of-type {\n",
       "        vertical-align: middle;\n",
       "    }\n",
       "\n",
       "    .dataframe tbody tr th {\n",
       "        vertical-align: top;\n",
       "    }\n",
       "\n",
       "    .dataframe thead th {\n",
       "        text-align: right;\n",
       "    }\n",
       "</style>\n",
       "<table border=\"1\" class=\"dataframe\">\n",
       "  <thead>\n",
       "    <tr style=\"text-align: right;\">\n",
       "      <th></th>\n",
       "      <th>bedrooms</th>\n",
       "      <th>bathrooms</th>\n",
       "      <th>sqft_living</th>\n",
       "      <th>sqft_lot</th>\n",
       "      <th>floors</th>\n",
       "      <th>waterfront</th>\n",
       "      <th>view</th>\n",
       "      <th>condition</th>\n",
       "      <th>grade</th>\n",
       "      <th>sqft_above</th>\n",
       "      <th>sqft_basement</th>\n",
       "      <th>yr_built</th>\n",
       "      <th>yr_renovated</th>\n",
       "      <th>zipcode</th>\n",
       "      <th>lat</th>\n",
       "      <th>long</th>\n",
       "      <th>sqft_living15</th>\n",
       "      <th>sqft_lot15</th>\n",
       "    </tr>\n",
       "  </thead>\n",
       "  <tbody>\n",
       "    <tr>\n",
       "      <th>18090</th>\n",
       "      <td>2</td>\n",
       "      <td>2.50</td>\n",
       "      <td>1320</td>\n",
       "      <td>48787</td>\n",
       "      <td>1.0</td>\n",
       "      <td>NO</td>\n",
       "      <td>NONE</td>\n",
       "      <td>Average</td>\n",
       "      <td>8</td>\n",
       "      <td>1320</td>\n",
       "      <td>0.0</td>\n",
       "      <td>2004</td>\n",
       "      <td>0.0</td>\n",
       "      <td>98027</td>\n",
       "      <td>47.5157</td>\n",
       "      <td>-121.924</td>\n",
       "      <td>1830</td>\n",
       "      <td>155073</td>\n",
       "    </tr>\n",
       "    <tr>\n",
       "      <th>19824</th>\n",
       "      <td>4</td>\n",
       "      <td>2.50</td>\n",
       "      <td>2090</td>\n",
       "      <td>5195</td>\n",
       "      <td>2.0</td>\n",
       "      <td>NO</td>\n",
       "      <td>NONE</td>\n",
       "      <td>Average</td>\n",
       "      <td>7</td>\n",
       "      <td>2090</td>\n",
       "      <td>0.0</td>\n",
       "      <td>2007</td>\n",
       "      <td>0.0</td>\n",
       "      <td>98031</td>\n",
       "      <td>47.3986</td>\n",
       "      <td>-122.166</td>\n",
       "      <td>2090</td>\n",
       "      <td>5236</td>\n",
       "    </tr>\n",
       "    <tr>\n",
       "      <th>9968</th>\n",
       "      <td>3</td>\n",
       "      <td>2.50</td>\n",
       "      <td>2430</td>\n",
       "      <td>5715</td>\n",
       "      <td>2.0</td>\n",
       "      <td>NO</td>\n",
       "      <td>NONE</td>\n",
       "      <td>Average</td>\n",
       "      <td>7</td>\n",
       "      <td>2430</td>\n",
       "      <td>0.0</td>\n",
       "      <td>1999</td>\n",
       "      <td>NaN</td>\n",
       "      <td>98030</td>\n",
       "      <td>47.3718</td>\n",
       "      <td>-122.168</td>\n",
       "      <td>3040</td>\n",
       "      <td>5702</td>\n",
       "    </tr>\n",
       "    <tr>\n",
       "      <th>20027</th>\n",
       "      <td>5</td>\n",
       "      <td>4.00</td>\n",
       "      <td>1680</td>\n",
       "      <td>7268</td>\n",
       "      <td>1.0</td>\n",
       "      <td>NO</td>\n",
       "      <td>NONE</td>\n",
       "      <td>Average</td>\n",
       "      <td>8</td>\n",
       "      <td>1370</td>\n",
       "      <td>310.0</td>\n",
       "      <td>2008</td>\n",
       "      <td>0.0</td>\n",
       "      <td>98106</td>\n",
       "      <td>47.5571</td>\n",
       "      <td>-122.356</td>\n",
       "      <td>2040</td>\n",
       "      <td>8259</td>\n",
       "    </tr>\n",
       "    <tr>\n",
       "      <th>2135</th>\n",
       "      <td>3</td>\n",
       "      <td>2.25</td>\n",
       "      <td>1810</td>\n",
       "      <td>11800</td>\n",
       "      <td>1.0</td>\n",
       "      <td>NO</td>\n",
       "      <td>NONE</td>\n",
       "      <td>Average</td>\n",
       "      <td>7</td>\n",
       "      <td>1240</td>\n",
       "      <td>570.0</td>\n",
       "      <td>1977</td>\n",
       "      <td>NaN</td>\n",
       "      <td>98178</td>\n",
       "      <td>47.4997</td>\n",
       "      <td>-122.231</td>\n",
       "      <td>1810</td>\n",
       "      <td>5641</td>\n",
       "    </tr>\n",
       "  </tbody>\n",
       "</table>\n",
       "</div>"
      ],
      "text/plain": [
       "       bedrooms  bathrooms  sqft_living  sqft_lot  floors waterfront  view  \\\n",
       "18090         2       2.50         1320     48787     1.0         NO  NONE   \n",
       "19824         4       2.50         2090      5195     2.0         NO  NONE   \n",
       "9968          3       2.50         2430      5715     2.0         NO  NONE   \n",
       "20027         5       4.00         1680      7268     1.0         NO  NONE   \n",
       "2135          3       2.25         1810     11800     1.0         NO  NONE   \n",
       "\n",
       "      condition  grade  sqft_above  sqft_basement  yr_built  yr_renovated  \\\n",
       "18090   Average      8        1320            0.0      2004           0.0   \n",
       "19824   Average      7        2090            0.0      2007           0.0   \n",
       "9968    Average      7        2430            0.0      1999           NaN   \n",
       "20027   Average      8        1370          310.0      2008           0.0   \n",
       "2135    Average      7        1240          570.0      1977           NaN   \n",
       "\n",
       "       zipcode      lat     long  sqft_living15  sqft_lot15  \n",
       "18090    98027  47.5157 -121.924           1830      155073  \n",
       "19824    98031  47.3986 -122.166           2090        5236  \n",
       "9968     98030  47.3718 -122.168           3040        5702  \n",
       "20027    98106  47.5571 -122.356           2040        8259  \n",
       "2135     98178  47.4997 -122.231           1810        5641  "
      ]
     },
     "execution_count": 112,
     "metadata": {},
     "output_type": "execute_result"
    }
   ],
   "source": [
    "# we'll keep these columns\n",
    "relevant_columns = ['bedrooms', \n",
    "                    'bathrooms', \n",
    "                    'sqft_living', \n",
    "                    'sqft_lot',\n",
    "                    'floors', \n",
    "                    'waterfront', \n",
    "                    'view', \n",
    "                    'condition', \n",
    "                    'grade', \n",
    "                    'sqft_above',\n",
    "                    'sqft_basement', \n",
    "                    'yr_built',\n",
    "                    'yr_renovated', \n",
    "                    'zipcode', \n",
    "                    'lat', \n",
    "                    'long',\n",
    "                    'sqft_living15', \n",
    "                    'sqft_lot15']\n",
    "\n",
    "# Reassign X_train so that it only contains relevant columns\n",
    "X_train = X_train[relevant_columns]\n",
    "\n",
    "# Check\n",
    "X_train.head()"
   ]
  },
  {
   "cell_type": "markdown",
   "metadata": {},
   "source": [
    "### Missing Values"
   ]
  },
  {
   "cell_type": "code",
   "execution_count": 113,
   "metadata": {},
   "outputs": [
    {
     "data": {
      "text/plain": [
       "bedrooms            0\n",
       "bathrooms           0\n",
       "sqft_living         0\n",
       "sqft_lot            0\n",
       "floors              0\n",
       "waterfront       1755\n",
       "view               45\n",
       "condition           0\n",
       "grade               0\n",
       "sqft_above          0\n",
       "sqft_basement       0\n",
       "yr_built            0\n",
       "yr_renovated     2921\n",
       "zipcode             0\n",
       "lat                 0\n",
       "long                0\n",
       "sqft_living15       0\n",
       "sqft_lot15          0\n",
       "dtype: int64"
      ]
     },
     "execution_count": 113,
     "metadata": {},
     "output_type": "execute_result"
    }
   ],
   "source": [
    "# check missing values\n",
    "X_train.isna().sum()"
   ]
  },
  {
   "cell_type": "markdown",
   "metadata": {},
   "source": [
    "We have missing values for `waterfront`, `view`, and `yr_renovated` columns. Lets further investigate what these missing values could possibly represent for now. "
   ]
  },
  {
   "cell_type": "markdown",
   "metadata": {},
   "source": [
    "### Preprocessing `waterfront`"
   ]
  },
  {
   "cell_type": "code",
   "execution_count": 114,
   "metadata": {},
   "outputs": [
    {
     "data": {
      "text/plain": [
       "NO     14330\n",
       "YES      104\n",
       "Name: waterfront, dtype: int64"
      ]
     },
     "execution_count": 114,
     "metadata": {},
     "output_type": "execute_result"
    }
   ],
   "source": [
    "# check possible values\n",
    "X_train['waterfront'].value_counts()"
   ]
  },
  {
   "cell_type": "code",
   "execution_count": 115,
   "metadata": {},
   "outputs": [
    {
     "data": {
      "text/html": [
       "<div>\n",
       "<style scoped>\n",
       "    .dataframe tbody tr th:only-of-type {\n",
       "        vertical-align: middle;\n",
       "    }\n",
       "\n",
       "    .dataframe tbody tr th {\n",
       "        vertical-align: top;\n",
       "    }\n",
       "\n",
       "    .dataframe thead th {\n",
       "        text-align: right;\n",
       "    }\n",
       "</style>\n",
       "<table border=\"1\" class=\"dataframe\">\n",
       "  <thead>\n",
       "    <tr style=\"text-align: right;\">\n",
       "      <th></th>\n",
       "      <th>bedrooms</th>\n",
       "      <th>bathrooms</th>\n",
       "      <th>sqft_living</th>\n",
       "      <th>sqft_lot</th>\n",
       "      <th>floors</th>\n",
       "      <th>waterfront</th>\n",
       "      <th>view</th>\n",
       "      <th>condition</th>\n",
       "      <th>grade</th>\n",
       "      <th>sqft_above</th>\n",
       "      <th>sqft_basement</th>\n",
       "      <th>yr_built</th>\n",
       "      <th>yr_renovated</th>\n",
       "      <th>zipcode</th>\n",
       "      <th>lat</th>\n",
       "      <th>long</th>\n",
       "      <th>sqft_living15</th>\n",
       "      <th>sqft_lot15</th>\n",
       "    </tr>\n",
       "  </thead>\n",
       "  <tbody>\n",
       "    <tr>\n",
       "      <th>9711</th>\n",
       "      <td>6</td>\n",
       "      <td>2.0</td>\n",
       "      <td>1900</td>\n",
       "      <td>8240</td>\n",
       "      <td>1.0</td>\n",
       "      <td>NaN</td>\n",
       "      <td>NONE</td>\n",
       "      <td>Fair</td>\n",
       "      <td>7</td>\n",
       "      <td>1200</td>\n",
       "      <td>700.0</td>\n",
       "      <td>1964</td>\n",
       "      <td>0.0</td>\n",
       "      <td>98125</td>\n",
       "      <td>47.7037</td>\n",
       "      <td>-122.296</td>\n",
       "      <td>1900</td>\n",
       "      <td>8240</td>\n",
       "    </tr>\n",
       "    <tr>\n",
       "      <th>7739</th>\n",
       "      <td>3</td>\n",
       "      <td>1.0</td>\n",
       "      <td>1020</td>\n",
       "      <td>55756</td>\n",
       "      <td>1.0</td>\n",
       "      <td>NaN</td>\n",
       "      <td>NONE</td>\n",
       "      <td>Average</td>\n",
       "      <td>7</td>\n",
       "      <td>1020</td>\n",
       "      <td>0.0</td>\n",
       "      <td>1961</td>\n",
       "      <td>0.0</td>\n",
       "      <td>98042</td>\n",
       "      <td>47.3836</td>\n",
       "      <td>-122.082</td>\n",
       "      <td>1490</td>\n",
       "      <td>12745</td>\n",
       "    </tr>\n",
       "  </tbody>\n",
       "</table>\n",
       "</div>"
      ],
      "text/plain": [
       "      bedrooms  bathrooms  sqft_living  sqft_lot  floors waterfront  view  \\\n",
       "9711         6        2.0         1900      8240     1.0        NaN  NONE   \n",
       "7739         3        1.0         1020     55756     1.0        NaN  NONE   \n",
       "\n",
       "     condition  grade  sqft_above  sqft_basement  yr_built  yr_renovated  \\\n",
       "9711      Fair      7        1200          700.0      1964           0.0   \n",
       "7739   Average      7        1020            0.0      1961           0.0   \n",
       "\n",
       "      zipcode      lat     long  sqft_living15  sqft_lot15  \n",
       "9711    98125  47.7037 -122.296           1900        8240  \n",
       "7739    98042  47.3836 -122.082           1490       12745  "
      ]
     },
     "execution_count": 115,
     "metadata": {},
     "output_type": "execute_result"
    }
   ],
   "source": [
    "# what do the missing values look like?\n",
    "X_train[X_train['waterfront'].isna()].head(2)"
   ]
  },
  {
   "cell_type": "markdown",
   "metadata": {},
   "source": [
    "Looks like the missing values are input into the dataframe as NaNs. Since there is no information in the data description about NaNs for waterfront properties, we can assume that the NaNs represent N/A or Not Available. The `waterfront` values are also already binary values of 'Yes' or 'No' so we dont need to fill in these NaNs with 0s. \n",
    "\n",
    "Lets replace these NaNs with N/A. "
   ]
  },
  {
   "cell_type": "code",
   "execution_count": 116,
   "metadata": {},
   "outputs": [
    {
     "data": {
      "text/plain": [
       "NO     14330\n",
       "N/A     1755\n",
       "YES      104\n",
       "Name: waterfront, dtype: int64"
      ]
     },
     "execution_count": 116,
     "metadata": {},
     "output_type": "execute_result"
    }
   ],
   "source": [
    "# replace NaNs in waterfront with 'N/A'\n",
    "X_train['waterfront'] = X_train['waterfront'].fillna(\"N/A\")\n",
    "X_train['waterfront'].value_counts()"
   ]
  },
  {
   "cell_type": "code",
   "execution_count": 117,
   "metadata": {},
   "outputs": [
    {
     "data": {
      "text/html": [
       "<div>\n",
       "<style scoped>\n",
       "    .dataframe tbody tr th:only-of-type {\n",
       "        vertical-align: middle;\n",
       "    }\n",
       "\n",
       "    .dataframe tbody tr th {\n",
       "        vertical-align: top;\n",
       "    }\n",
       "\n",
       "    .dataframe thead th {\n",
       "        text-align: right;\n",
       "    }\n",
       "</style>\n",
       "<table border=\"1\" class=\"dataframe\">\n",
       "  <thead>\n",
       "    <tr style=\"text-align: right;\">\n",
       "      <th></th>\n",
       "      <th>bedrooms</th>\n",
       "      <th>bathrooms</th>\n",
       "      <th>sqft_living</th>\n",
       "      <th>sqft_lot</th>\n",
       "      <th>floors</th>\n",
       "      <th>waterfront</th>\n",
       "      <th>view</th>\n",
       "      <th>condition</th>\n",
       "      <th>grade</th>\n",
       "      <th>sqft_above</th>\n",
       "      <th>sqft_basement</th>\n",
       "      <th>yr_built</th>\n",
       "      <th>yr_renovated</th>\n",
       "      <th>zipcode</th>\n",
       "      <th>lat</th>\n",
       "      <th>long</th>\n",
       "      <th>sqft_living15</th>\n",
       "      <th>sqft_lot15</th>\n",
       "    </tr>\n",
       "  </thead>\n",
       "  <tbody>\n",
       "    <tr>\n",
       "      <th>18090</th>\n",
       "      <td>2</td>\n",
       "      <td>2.50</td>\n",
       "      <td>1320</td>\n",
       "      <td>48787</td>\n",
       "      <td>1.0</td>\n",
       "      <td>NO</td>\n",
       "      <td>NONE</td>\n",
       "      <td>Average</td>\n",
       "      <td>8</td>\n",
       "      <td>1320</td>\n",
       "      <td>0.0</td>\n",
       "      <td>2004</td>\n",
       "      <td>0.0</td>\n",
       "      <td>98027</td>\n",
       "      <td>47.5157</td>\n",
       "      <td>-121.924</td>\n",
       "      <td>1830</td>\n",
       "      <td>155073</td>\n",
       "    </tr>\n",
       "    <tr>\n",
       "      <th>19824</th>\n",
       "      <td>4</td>\n",
       "      <td>2.50</td>\n",
       "      <td>2090</td>\n",
       "      <td>5195</td>\n",
       "      <td>2.0</td>\n",
       "      <td>NO</td>\n",
       "      <td>NONE</td>\n",
       "      <td>Average</td>\n",
       "      <td>7</td>\n",
       "      <td>2090</td>\n",
       "      <td>0.0</td>\n",
       "      <td>2007</td>\n",
       "      <td>0.0</td>\n",
       "      <td>98031</td>\n",
       "      <td>47.3986</td>\n",
       "      <td>-122.166</td>\n",
       "      <td>2090</td>\n",
       "      <td>5236</td>\n",
       "    </tr>\n",
       "    <tr>\n",
       "      <th>9968</th>\n",
       "      <td>3</td>\n",
       "      <td>2.50</td>\n",
       "      <td>2430</td>\n",
       "      <td>5715</td>\n",
       "      <td>2.0</td>\n",
       "      <td>NO</td>\n",
       "      <td>NONE</td>\n",
       "      <td>Average</td>\n",
       "      <td>7</td>\n",
       "      <td>2430</td>\n",
       "      <td>0.0</td>\n",
       "      <td>1999</td>\n",
       "      <td>NaN</td>\n",
       "      <td>98030</td>\n",
       "      <td>47.3718</td>\n",
       "      <td>-122.168</td>\n",
       "      <td>3040</td>\n",
       "      <td>5702</td>\n",
       "    </tr>\n",
       "    <tr>\n",
       "      <th>20027</th>\n",
       "      <td>5</td>\n",
       "      <td>4.00</td>\n",
       "      <td>1680</td>\n",
       "      <td>7268</td>\n",
       "      <td>1.0</td>\n",
       "      <td>NO</td>\n",
       "      <td>NONE</td>\n",
       "      <td>Average</td>\n",
       "      <td>8</td>\n",
       "      <td>1370</td>\n",
       "      <td>310.0</td>\n",
       "      <td>2008</td>\n",
       "      <td>0.0</td>\n",
       "      <td>98106</td>\n",
       "      <td>47.5571</td>\n",
       "      <td>-122.356</td>\n",
       "      <td>2040</td>\n",
       "      <td>8259</td>\n",
       "    </tr>\n",
       "    <tr>\n",
       "      <th>2135</th>\n",
       "      <td>3</td>\n",
       "      <td>2.25</td>\n",
       "      <td>1810</td>\n",
       "      <td>11800</td>\n",
       "      <td>1.0</td>\n",
       "      <td>NO</td>\n",
       "      <td>NONE</td>\n",
       "      <td>Average</td>\n",
       "      <td>7</td>\n",
       "      <td>1240</td>\n",
       "      <td>570.0</td>\n",
       "      <td>1977</td>\n",
       "      <td>NaN</td>\n",
       "      <td>98178</td>\n",
       "      <td>47.4997</td>\n",
       "      <td>-122.231</td>\n",
       "      <td>1810</td>\n",
       "      <td>5641</td>\n",
       "    </tr>\n",
       "    <tr>\n",
       "      <th>...</th>\n",
       "      <td>...</td>\n",
       "      <td>...</td>\n",
       "      <td>...</td>\n",
       "      <td>...</td>\n",
       "      <td>...</td>\n",
       "      <td>...</td>\n",
       "      <td>...</td>\n",
       "      <td>...</td>\n",
       "      <td>...</td>\n",
       "      <td>...</td>\n",
       "      <td>...</td>\n",
       "      <td>...</td>\n",
       "      <td>...</td>\n",
       "      <td>...</td>\n",
       "      <td>...</td>\n",
       "      <td>...</td>\n",
       "      <td>...</td>\n",
       "      <td>...</td>\n",
       "    </tr>\n",
       "    <tr>\n",
       "      <th>11971</th>\n",
       "      <td>4</td>\n",
       "      <td>1.75</td>\n",
       "      <td>2310</td>\n",
       "      <td>8045</td>\n",
       "      <td>1.0</td>\n",
       "      <td>NO</td>\n",
       "      <td>NONE</td>\n",
       "      <td>Good</td>\n",
       "      <td>7</td>\n",
       "      <td>1650</td>\n",
       "      <td>660.0</td>\n",
       "      <td>1976</td>\n",
       "      <td>0.0</td>\n",
       "      <td>98058</td>\n",
       "      <td>47.4569</td>\n",
       "      <td>-122.165</td>\n",
       "      <td>1790</td>\n",
       "      <td>8086</td>\n",
       "    </tr>\n",
       "    <tr>\n",
       "      <th>21586</th>\n",
       "      <td>3</td>\n",
       "      <td>1.75</td>\n",
       "      <td>1500</td>\n",
       "      <td>11968</td>\n",
       "      <td>1.0</td>\n",
       "      <td>N/A</td>\n",
       "      <td>NONE</td>\n",
       "      <td>Average</td>\n",
       "      <td>6</td>\n",
       "      <td>1500</td>\n",
       "      <td>0.0</td>\n",
       "      <td>2014</td>\n",
       "      <td>0.0</td>\n",
       "      <td>98010</td>\n",
       "      <td>47.3095</td>\n",
       "      <td>-122.002</td>\n",
       "      <td>1320</td>\n",
       "      <td>11303</td>\n",
       "    </tr>\n",
       "    <tr>\n",
       "      <th>5393</th>\n",
       "      <td>4</td>\n",
       "      <td>1.75</td>\n",
       "      <td>2450</td>\n",
       "      <td>13300</td>\n",
       "      <td>1.0</td>\n",
       "      <td>NO</td>\n",
       "      <td>NaN</td>\n",
       "      <td>Good</td>\n",
       "      <td>9</td>\n",
       "      <td>1630</td>\n",
       "      <td>820.0</td>\n",
       "      <td>1987</td>\n",
       "      <td>0.0</td>\n",
       "      <td>98006</td>\n",
       "      <td>47.5564</td>\n",
       "      <td>-122.130</td>\n",
       "      <td>3150</td>\n",
       "      <td>15500</td>\n",
       "    </tr>\n",
       "    <tr>\n",
       "      <th>860</th>\n",
       "      <td>1</td>\n",
       "      <td>0.75</td>\n",
       "      <td>380</td>\n",
       "      <td>15000</td>\n",
       "      <td>1.0</td>\n",
       "      <td>NO</td>\n",
       "      <td>NONE</td>\n",
       "      <td>Average</td>\n",
       "      <td>5</td>\n",
       "      <td>380</td>\n",
       "      <td>0.0</td>\n",
       "      <td>1963</td>\n",
       "      <td>0.0</td>\n",
       "      <td>98168</td>\n",
       "      <td>47.4810</td>\n",
       "      <td>-122.323</td>\n",
       "      <td>1170</td>\n",
       "      <td>15000</td>\n",
       "    </tr>\n",
       "    <tr>\n",
       "      <th>15804</th>\n",
       "      <td>4</td>\n",
       "      <td>2.75</td>\n",
       "      <td>2414</td>\n",
       "      <td>7693</td>\n",
       "      <td>2.0</td>\n",
       "      <td>NO</td>\n",
       "      <td>NONE</td>\n",
       "      <td>Average</td>\n",
       "      <td>8</td>\n",
       "      <td>2414</td>\n",
       "      <td>0.0</td>\n",
       "      <td>2006</td>\n",
       "      <td>0.0</td>\n",
       "      <td>98002</td>\n",
       "      <td>47.3046</td>\n",
       "      <td>-122.222</td>\n",
       "      <td>1500</td>\n",
       "      <td>7177</td>\n",
       "    </tr>\n",
       "  </tbody>\n",
       "</table>\n",
       "<p>16189 rows × 18 columns</p>\n",
       "</div>"
      ],
      "text/plain": [
       "       bedrooms  bathrooms  sqft_living  sqft_lot  floors waterfront  view  \\\n",
       "18090         2       2.50         1320     48787     1.0         NO  NONE   \n",
       "19824         4       2.50         2090      5195     2.0         NO  NONE   \n",
       "9968          3       2.50         2430      5715     2.0         NO  NONE   \n",
       "20027         5       4.00         1680      7268     1.0         NO  NONE   \n",
       "2135          3       2.25         1810     11800     1.0         NO  NONE   \n",
       "...         ...        ...          ...       ...     ...        ...   ...   \n",
       "11971         4       1.75         2310      8045     1.0         NO  NONE   \n",
       "21586         3       1.75         1500     11968     1.0        N/A  NONE   \n",
       "5393          4       1.75         2450     13300     1.0         NO   NaN   \n",
       "860           1       0.75          380     15000     1.0         NO  NONE   \n",
       "15804         4       2.75         2414      7693     2.0         NO  NONE   \n",
       "\n",
       "      condition  grade  sqft_above  sqft_basement  yr_built  yr_renovated  \\\n",
       "18090   Average      8        1320            0.0      2004           0.0   \n",
       "19824   Average      7        2090            0.0      2007           0.0   \n",
       "9968    Average      7        2430            0.0      1999           NaN   \n",
       "20027   Average      8        1370          310.0      2008           0.0   \n",
       "2135    Average      7        1240          570.0      1977           NaN   \n",
       "...         ...    ...         ...            ...       ...           ...   \n",
       "11971      Good      7        1650          660.0      1976           0.0   \n",
       "21586   Average      6        1500            0.0      2014           0.0   \n",
       "5393       Good      9        1630          820.0      1987           0.0   \n",
       "860     Average      5         380            0.0      1963           0.0   \n",
       "15804   Average      8        2414            0.0      2006           0.0   \n",
       "\n",
       "       zipcode      lat     long  sqft_living15  sqft_lot15  \n",
       "18090    98027  47.5157 -121.924           1830      155073  \n",
       "19824    98031  47.3986 -122.166           2090        5236  \n",
       "9968     98030  47.3718 -122.168           3040        5702  \n",
       "20027    98106  47.5571 -122.356           2040        8259  \n",
       "2135     98178  47.4997 -122.231           1810        5641  \n",
       "...        ...      ...      ...            ...         ...  \n",
       "11971    98058  47.4569 -122.165           1790        8086  \n",
       "21586    98010  47.3095 -122.002           1320       11303  \n",
       "5393     98006  47.5564 -122.130           3150       15500  \n",
       "860      98168  47.4810 -122.323           1170       15000  \n",
       "15804    98002  47.3046 -122.222           1500        7177  \n",
       "\n",
       "[16189 rows x 18 columns]"
      ]
     },
     "execution_count": 117,
     "metadata": {},
     "output_type": "execute_result"
    }
   ],
   "source": [
    "X_train"
   ]
  },
  {
   "cell_type": "markdown",
   "metadata": {},
   "source": [
    "We will OneHotEncode these values for `waterfront` since these are nominal values. "
   ]
  },
  {
   "cell_type": "code",
   "execution_count": 118,
   "metadata": {},
   "outputs": [],
   "source": [
    "# One hot encode categoricals\n",
    "waterfront_ohe = pd.get_dummies(X_train['waterfront'], drop_first=True)\n",
    "\n",
    "# Drop original waterfront column\n",
    "X_train.drop('waterfront', axis=1, inplace=True)"
   ]
  },
  {
   "cell_type": "code",
   "execution_count": 119,
   "metadata": {},
   "outputs": [
    {
     "data": {
      "text/html": [
       "<div>\n",
       "<style scoped>\n",
       "    .dataframe tbody tr th:only-of-type {\n",
       "        vertical-align: middle;\n",
       "    }\n",
       "\n",
       "    .dataframe tbody tr th {\n",
       "        vertical-align: top;\n",
       "    }\n",
       "\n",
       "    .dataframe thead th {\n",
       "        text-align: right;\n",
       "    }\n",
       "</style>\n",
       "<table border=\"1\" class=\"dataframe\">\n",
       "  <thead>\n",
       "    <tr style=\"text-align: right;\">\n",
       "      <th></th>\n",
       "      <th>bedrooms</th>\n",
       "      <th>bathrooms</th>\n",
       "      <th>sqft_living</th>\n",
       "      <th>sqft_lot</th>\n",
       "      <th>floors</th>\n",
       "      <th>view</th>\n",
       "      <th>condition</th>\n",
       "      <th>grade</th>\n",
       "      <th>sqft_above</th>\n",
       "      <th>sqft_basement</th>\n",
       "      <th>yr_built</th>\n",
       "      <th>yr_renovated</th>\n",
       "      <th>zipcode</th>\n",
       "      <th>lat</th>\n",
       "      <th>long</th>\n",
       "      <th>sqft_living15</th>\n",
       "      <th>sqft_lot15</th>\n",
       "      <th>NO</th>\n",
       "      <th>YES</th>\n",
       "    </tr>\n",
       "  </thead>\n",
       "  <tbody>\n",
       "    <tr>\n",
       "      <th>18090</th>\n",
       "      <td>2</td>\n",
       "      <td>2.5</td>\n",
       "      <td>1320</td>\n",
       "      <td>48787</td>\n",
       "      <td>1.0</td>\n",
       "      <td>NONE</td>\n",
       "      <td>Average</td>\n",
       "      <td>8</td>\n",
       "      <td>1320</td>\n",
       "      <td>0.0</td>\n",
       "      <td>2004</td>\n",
       "      <td>0.0</td>\n",
       "      <td>98027</td>\n",
       "      <td>47.5157</td>\n",
       "      <td>-121.924</td>\n",
       "      <td>1830</td>\n",
       "      <td>155073</td>\n",
       "      <td>1</td>\n",
       "      <td>0</td>\n",
       "    </tr>\n",
       "    <tr>\n",
       "      <th>19824</th>\n",
       "      <td>4</td>\n",
       "      <td>2.5</td>\n",
       "      <td>2090</td>\n",
       "      <td>5195</td>\n",
       "      <td>2.0</td>\n",
       "      <td>NONE</td>\n",
       "      <td>Average</td>\n",
       "      <td>7</td>\n",
       "      <td>2090</td>\n",
       "      <td>0.0</td>\n",
       "      <td>2007</td>\n",
       "      <td>0.0</td>\n",
       "      <td>98031</td>\n",
       "      <td>47.3986</td>\n",
       "      <td>-122.166</td>\n",
       "      <td>2090</td>\n",
       "      <td>5236</td>\n",
       "      <td>1</td>\n",
       "      <td>0</td>\n",
       "    </tr>\n",
       "    <tr>\n",
       "      <th>9968</th>\n",
       "      <td>3</td>\n",
       "      <td>2.5</td>\n",
       "      <td>2430</td>\n",
       "      <td>5715</td>\n",
       "      <td>2.0</td>\n",
       "      <td>NONE</td>\n",
       "      <td>Average</td>\n",
       "      <td>7</td>\n",
       "      <td>2430</td>\n",
       "      <td>0.0</td>\n",
       "      <td>1999</td>\n",
       "      <td>NaN</td>\n",
       "      <td>98030</td>\n",
       "      <td>47.3718</td>\n",
       "      <td>-122.168</td>\n",
       "      <td>3040</td>\n",
       "      <td>5702</td>\n",
       "      <td>1</td>\n",
       "      <td>0</td>\n",
       "    </tr>\n",
       "  </tbody>\n",
       "</table>\n",
       "</div>"
      ],
      "text/plain": [
       "       bedrooms  bathrooms  sqft_living  sqft_lot  floors  view condition  \\\n",
       "18090         2        2.5         1320     48787     1.0  NONE   Average   \n",
       "19824         4        2.5         2090      5195     2.0  NONE   Average   \n",
       "9968          3        2.5         2430      5715     2.0  NONE   Average   \n",
       "\n",
       "       grade  sqft_above  sqft_basement  yr_built  yr_renovated  zipcode  \\\n",
       "18090      8        1320            0.0      2004           0.0    98027   \n",
       "19824      7        2090            0.0      2007           0.0    98031   \n",
       "9968       7        2430            0.0      1999           NaN    98030   \n",
       "\n",
       "           lat     long  sqft_living15  sqft_lot15  NO  YES  \n",
       "18090  47.5157 -121.924           1830      155073   1    0  \n",
       "19824  47.3986 -122.166           2090        5236   1    0  \n",
       "9968   47.3718 -122.168           3040        5702   1    0  "
      ]
     },
     "execution_count": 119,
     "metadata": {},
     "output_type": "execute_result"
    }
   ],
   "source": [
    "#Concatenate the new dataframe with current X_train\n",
    "X_train = pd.concat([X_train, waterfront_ohe], axis=1)\n",
    "\n",
    "# Visually inspect X_train\n",
    "X_train.head(3)"
   ]
  },
  {
   "cell_type": "markdown",
   "metadata": {},
   "source": [
    "Ok great, lets move on to the other non-numerical columns. "
   ]
  },
  {
   "cell_type": "markdown",
   "metadata": {},
   "source": [
    "### Preprocessing `view`"
   ]
  },
  {
   "cell_type": "code",
   "execution_count": 120,
   "metadata": {},
   "outputs": [
    {
     "data": {
      "text/plain": [
       "NONE         14570\n",
       "AVERAGE        691\n",
       "GOOD           396\n",
       "FAIR           251\n",
       "EXCELLENT      236\n",
       "Name: view, dtype: int64"
      ]
     },
     "execution_count": 120,
     "metadata": {},
     "output_type": "execute_result"
    }
   ],
   "source": [
    "# check possible values\n",
    "X_train['view'].value_counts()"
   ]
  },
  {
   "cell_type": "code",
   "execution_count": 121,
   "metadata": {},
   "outputs": [
    {
     "data": {
      "text/html": [
       "<div>\n",
       "<style scoped>\n",
       "    .dataframe tbody tr th:only-of-type {\n",
       "        vertical-align: middle;\n",
       "    }\n",
       "\n",
       "    .dataframe tbody tr th {\n",
       "        vertical-align: top;\n",
       "    }\n",
       "\n",
       "    .dataframe thead th {\n",
       "        text-align: right;\n",
       "    }\n",
       "</style>\n",
       "<table border=\"1\" class=\"dataframe\">\n",
       "  <thead>\n",
       "    <tr style=\"text-align: right;\">\n",
       "      <th></th>\n",
       "      <th>bedrooms</th>\n",
       "      <th>bathrooms</th>\n",
       "      <th>sqft_living</th>\n",
       "      <th>sqft_lot</th>\n",
       "      <th>floors</th>\n",
       "      <th>view</th>\n",
       "      <th>condition</th>\n",
       "      <th>grade</th>\n",
       "      <th>sqft_above</th>\n",
       "      <th>sqft_basement</th>\n",
       "      <th>yr_built</th>\n",
       "      <th>yr_renovated</th>\n",
       "      <th>zipcode</th>\n",
       "      <th>lat</th>\n",
       "      <th>long</th>\n",
       "      <th>sqft_living15</th>\n",
       "      <th>sqft_lot15</th>\n",
       "      <th>NO</th>\n",
       "      <th>YES</th>\n",
       "    </tr>\n",
       "  </thead>\n",
       "  <tbody>\n",
       "    <tr>\n",
       "      <th>13863</th>\n",
       "      <td>3</td>\n",
       "      <td>2.5</td>\n",
       "      <td>2588</td>\n",
       "      <td>5702</td>\n",
       "      <td>2.0</td>\n",
       "      <td>NaN</td>\n",
       "      <td>Average</td>\n",
       "      <td>8</td>\n",
       "      <td>2588</td>\n",
       "      <td>0.0</td>\n",
       "      <td>2008</td>\n",
       "      <td>NaN</td>\n",
       "      <td>98042</td>\n",
       "      <td>47.3453</td>\n",
       "      <td>-122.151</td>\n",
       "      <td>2403</td>\n",
       "      <td>5703</td>\n",
       "      <td>0</td>\n",
       "      <td>0</td>\n",
       "    </tr>\n",
       "    <tr>\n",
       "      <th>16748</th>\n",
       "      <td>4</td>\n",
       "      <td>3.0</td>\n",
       "      <td>2490</td>\n",
       "      <td>5064</td>\n",
       "      <td>2.0</td>\n",
       "      <td>NaN</td>\n",
       "      <td>Average</td>\n",
       "      <td>7</td>\n",
       "      <td>2490</td>\n",
       "      <td>0.0</td>\n",
       "      <td>2007</td>\n",
       "      <td>0.0</td>\n",
       "      <td>98056</td>\n",
       "      <td>47.5139</td>\n",
       "      <td>-122.189</td>\n",
       "      <td>2470</td>\n",
       "      <td>5064</td>\n",
       "      <td>1</td>\n",
       "      <td>0</td>\n",
       "    </tr>\n",
       "  </tbody>\n",
       "</table>\n",
       "</div>"
      ],
      "text/plain": [
       "       bedrooms  bathrooms  sqft_living  sqft_lot  floors view condition  \\\n",
       "13863         3        2.5         2588      5702     2.0  NaN   Average   \n",
       "16748         4        3.0         2490      5064     2.0  NaN   Average   \n",
       "\n",
       "       grade  sqft_above  sqft_basement  yr_built  yr_renovated  zipcode  \\\n",
       "13863      8        2588            0.0      2008           NaN    98042   \n",
       "16748      7        2490            0.0      2007           0.0    98056   \n",
       "\n",
       "           lat     long  sqft_living15  sqft_lot15  NO  YES  \n",
       "13863  47.3453 -122.151           2403        5703   0    0  \n",
       "16748  47.5139 -122.189           2470        5064   1    0  "
      ]
     },
     "execution_count": 121,
     "metadata": {},
     "output_type": "execute_result"
    }
   ],
   "source": [
    "# what do the missing values look like?\n",
    "X_train[X_train['view'].isna()].head(2)"
   ]
  },
  {
   "cell_type": "markdown",
   "metadata": {},
   "source": [
    "The `view` refers to the quality of view from the house. This is a bit confusing since the column description also states the following: \n",
    "\n",
    "- Includes views of Mt. Rainier, Olympics, Cascades, Territorial, Seattle Skyline, Puget Sound, Lake Washington, Lake Sammamish, small lake / river / creek, and other. \n",
    "\n",
    "However, the values for `view` are limited to ordinal values ranging from 'Fair' to 'Excellent'. This could be difficult to translate considering we do not know the exact address of each home as well as the connection between the ordinal value (ie. Excellent) and the corresponding view. \n",
    "\n",
    "For this reason, we will replace the missing NaNs with an already classified `NONE` value. \n",
    "\n",
    "Additionally, the values for `view` and `condition` columns are **ORDINAL**. We can change this column to represent numerical values of ordinal categorical variables. "
   ]
  },
  {
   "cell_type": "code",
   "execution_count": 122,
   "metadata": {},
   "outputs": [
    {
     "data": {
      "text/plain": [
       "NONE         14615\n",
       "AVERAGE        691\n",
       "GOOD           396\n",
       "FAIR           251\n",
       "EXCELLENT      236\n",
       "Name: view, dtype: int64"
      ]
     },
     "execution_count": 122,
     "metadata": {},
     "output_type": "execute_result"
    }
   ],
   "source": [
    "# replace NaNs in view with 'NONE'\n",
    "X_train['view'] = X_train['view'].fillna('NONE')\n",
    "X_train['view'].value_counts()"
   ]
  },
  {
   "cell_type": "code",
   "execution_count": 123,
   "metadata": {},
   "outputs": [
    {
     "data": {
      "text/plain": [
       "Average      10524\n",
       "Good          4248\n",
       "Very Good     1261\n",
       "Fair           135\n",
       "Poor            21\n",
       "Name: condition, dtype: int64"
      ]
     },
     "execution_count": 123,
     "metadata": {},
     "output_type": "execute_result"
    }
   ],
   "source": [
    "X_train['condition'].value_counts()"
   ]
  },
  {
   "cell_type": "code",
   "execution_count": 124,
   "metadata": {},
   "outputs": [],
   "source": [
    "# convert view and condition columns as category datatypes\n",
    "X_train['view'] = X_train['view'].astype('category')\n",
    "X_train['condition'] = X_train['condition'].astype('category')\n",
    "\n",
    "# reorder the categories (based on documentation of the column)\n",
    "# ordered from worst to best\n",
    "X_train['view'] = X_train['view'].cat.reorder_categories(['NONE', 'FAIR', 'AVERAGE', 'GOOD', 'EXCELLENT'])\n",
    "X_train['condition'] = X_train['condition'].cat.reorder_categories(['Poor', 'Fair', 'Average', 'Good', 'Very Good'])\n",
    "\n",
    "\n",
    "# assign numerical values to each category\n",
    "X_train['view'] = X_train['view'].cat.codes\n",
    "X_train['condition'] = X_train['condition'].cat.codes\n"
   ]
  },
  {
   "cell_type": "code",
   "execution_count": 125,
   "metadata": {},
   "outputs": [
    {
     "data": {
      "text/html": [
       "<div>\n",
       "<style scoped>\n",
       "    .dataframe tbody tr th:only-of-type {\n",
       "        vertical-align: middle;\n",
       "    }\n",
       "\n",
       "    .dataframe tbody tr th {\n",
       "        vertical-align: top;\n",
       "    }\n",
       "\n",
       "    .dataframe thead th {\n",
       "        text-align: right;\n",
       "    }\n",
       "</style>\n",
       "<table border=\"1\" class=\"dataframe\">\n",
       "  <thead>\n",
       "    <tr style=\"text-align: right;\">\n",
       "      <th></th>\n",
       "      <th>bedrooms</th>\n",
       "      <th>bathrooms</th>\n",
       "      <th>sqft_living</th>\n",
       "      <th>sqft_lot</th>\n",
       "      <th>floors</th>\n",
       "      <th>view</th>\n",
       "      <th>condition</th>\n",
       "      <th>grade</th>\n",
       "      <th>sqft_above</th>\n",
       "      <th>sqft_basement</th>\n",
       "      <th>yr_built</th>\n",
       "      <th>yr_renovated</th>\n",
       "      <th>zipcode</th>\n",
       "      <th>lat</th>\n",
       "      <th>long</th>\n",
       "      <th>sqft_living15</th>\n",
       "      <th>sqft_lot15</th>\n",
       "      <th>NO</th>\n",
       "      <th>YES</th>\n",
       "    </tr>\n",
       "  </thead>\n",
       "  <tbody>\n",
       "    <tr>\n",
       "      <th>18090</th>\n",
       "      <td>2</td>\n",
       "      <td>2.5</td>\n",
       "      <td>1320</td>\n",
       "      <td>48787</td>\n",
       "      <td>1.0</td>\n",
       "      <td>0</td>\n",
       "      <td>2</td>\n",
       "      <td>8</td>\n",
       "      <td>1320</td>\n",
       "      <td>0.0</td>\n",
       "      <td>2004</td>\n",
       "      <td>0.0</td>\n",
       "      <td>98027</td>\n",
       "      <td>47.5157</td>\n",
       "      <td>-121.924</td>\n",
       "      <td>1830</td>\n",
       "      <td>155073</td>\n",
       "      <td>1</td>\n",
       "      <td>0</td>\n",
       "    </tr>\n",
       "    <tr>\n",
       "      <th>19824</th>\n",
       "      <td>4</td>\n",
       "      <td>2.5</td>\n",
       "      <td>2090</td>\n",
       "      <td>5195</td>\n",
       "      <td>2.0</td>\n",
       "      <td>0</td>\n",
       "      <td>2</td>\n",
       "      <td>7</td>\n",
       "      <td>2090</td>\n",
       "      <td>0.0</td>\n",
       "      <td>2007</td>\n",
       "      <td>0.0</td>\n",
       "      <td>98031</td>\n",
       "      <td>47.3986</td>\n",
       "      <td>-122.166</td>\n",
       "      <td>2090</td>\n",
       "      <td>5236</td>\n",
       "      <td>1</td>\n",
       "      <td>0</td>\n",
       "    </tr>\n",
       "    <tr>\n",
       "      <th>9968</th>\n",
       "      <td>3</td>\n",
       "      <td>2.5</td>\n",
       "      <td>2430</td>\n",
       "      <td>5715</td>\n",
       "      <td>2.0</td>\n",
       "      <td>0</td>\n",
       "      <td>2</td>\n",
       "      <td>7</td>\n",
       "      <td>2430</td>\n",
       "      <td>0.0</td>\n",
       "      <td>1999</td>\n",
       "      <td>NaN</td>\n",
       "      <td>98030</td>\n",
       "      <td>47.3718</td>\n",
       "      <td>-122.168</td>\n",
       "      <td>3040</td>\n",
       "      <td>5702</td>\n",
       "      <td>1</td>\n",
       "      <td>0</td>\n",
       "    </tr>\n",
       "  </tbody>\n",
       "</table>\n",
       "</div>"
      ],
      "text/plain": [
       "       bedrooms  bathrooms  sqft_living  sqft_lot  floors  view  condition  \\\n",
       "18090         2        2.5         1320     48787     1.0     0          2   \n",
       "19824         4        2.5         2090      5195     2.0     0          2   \n",
       "9968          3        2.5         2430      5715     2.0     0          2   \n",
       "\n",
       "       grade  sqft_above  sqft_basement  yr_built  yr_renovated  zipcode  \\\n",
       "18090      8        1320            0.0      2004           0.0    98027   \n",
       "19824      7        2090            0.0      2007           0.0    98031   \n",
       "9968       7        2430            0.0      1999           NaN    98030   \n",
       "\n",
       "           lat     long  sqft_living15  sqft_lot15  NO  YES  \n",
       "18090  47.5157 -121.924           1830      155073   1    0  \n",
       "19824  47.3986 -122.166           2090        5236   1    0  \n",
       "9968   47.3718 -122.168           3040        5702   1    0  "
      ]
     },
     "execution_count": 125,
     "metadata": {},
     "output_type": "execute_result"
    }
   ],
   "source": [
    "X_train.head(3)"
   ]
  },
  {
   "cell_type": "markdown",
   "metadata": {},
   "source": [
    "### Preprocessing `yr_renovated`"
   ]
  },
  {
   "cell_type": "code",
   "execution_count": 126,
   "metadata": {},
   "outputs": [
    {
     "data": {
      "text/plain": [
       "0.0       12698\n",
       "2014.0       57\n",
       "2013.0       26\n",
       "2003.0       23\n",
       "2005.0       22\n",
       "          ...  \n",
       "1944.0        1\n",
       "1956.0        1\n",
       "1971.0        1\n",
       "1953.0        1\n",
       "1972.0        1\n",
       "Name: yr_renovated, Length: 65, dtype: int64"
      ]
     },
     "execution_count": 126,
     "metadata": {},
     "output_type": "execute_result"
    }
   ],
   "source": [
    "# check possible values\n",
    "X_train['yr_renovated'].value_counts()"
   ]
  },
  {
   "cell_type": "code",
   "execution_count": 127,
   "metadata": {},
   "outputs": [
    {
     "data": {
      "text/html": [
       "<div>\n",
       "<style scoped>\n",
       "    .dataframe tbody tr th:only-of-type {\n",
       "        vertical-align: middle;\n",
       "    }\n",
       "\n",
       "    .dataframe tbody tr th {\n",
       "        vertical-align: top;\n",
       "    }\n",
       "\n",
       "    .dataframe thead th {\n",
       "        text-align: right;\n",
       "    }\n",
       "</style>\n",
       "<table border=\"1\" class=\"dataframe\">\n",
       "  <thead>\n",
       "    <tr style=\"text-align: right;\">\n",
       "      <th></th>\n",
       "      <th>bedrooms</th>\n",
       "      <th>bathrooms</th>\n",
       "      <th>sqft_living</th>\n",
       "      <th>sqft_lot</th>\n",
       "      <th>floors</th>\n",
       "      <th>view</th>\n",
       "      <th>condition</th>\n",
       "      <th>grade</th>\n",
       "      <th>sqft_above</th>\n",
       "      <th>sqft_basement</th>\n",
       "      <th>yr_built</th>\n",
       "      <th>yr_renovated</th>\n",
       "      <th>zipcode</th>\n",
       "      <th>lat</th>\n",
       "      <th>long</th>\n",
       "      <th>sqft_living15</th>\n",
       "      <th>sqft_lot15</th>\n",
       "      <th>NO</th>\n",
       "      <th>YES</th>\n",
       "    </tr>\n",
       "  </thead>\n",
       "  <tbody>\n",
       "    <tr>\n",
       "      <th>9968</th>\n",
       "      <td>3</td>\n",
       "      <td>2.50</td>\n",
       "      <td>2430</td>\n",
       "      <td>5715</td>\n",
       "      <td>2.0</td>\n",
       "      <td>0</td>\n",
       "      <td>2</td>\n",
       "      <td>7</td>\n",
       "      <td>2430</td>\n",
       "      <td>0.0</td>\n",
       "      <td>1999</td>\n",
       "      <td>NaN</td>\n",
       "      <td>98030</td>\n",
       "      <td>47.3718</td>\n",
       "      <td>-122.168</td>\n",
       "      <td>3040</td>\n",
       "      <td>5702</td>\n",
       "      <td>1</td>\n",
       "      <td>0</td>\n",
       "    </tr>\n",
       "    <tr>\n",
       "      <th>2135</th>\n",
       "      <td>3</td>\n",
       "      <td>2.25</td>\n",
       "      <td>1810</td>\n",
       "      <td>11800</td>\n",
       "      <td>1.0</td>\n",
       "      <td>0</td>\n",
       "      <td>2</td>\n",
       "      <td>7</td>\n",
       "      <td>1240</td>\n",
       "      <td>570.0</td>\n",
       "      <td>1977</td>\n",
       "      <td>NaN</td>\n",
       "      <td>98178</td>\n",
       "      <td>47.4997</td>\n",
       "      <td>-122.231</td>\n",
       "      <td>1810</td>\n",
       "      <td>5641</td>\n",
       "      <td>1</td>\n",
       "      <td>0</td>\n",
       "    </tr>\n",
       "  </tbody>\n",
       "</table>\n",
       "</div>"
      ],
      "text/plain": [
       "      bedrooms  bathrooms  sqft_living  sqft_lot  floors  view  condition  \\\n",
       "9968         3       2.50         2430      5715     2.0     0          2   \n",
       "2135         3       2.25         1810     11800     1.0     0          2   \n",
       "\n",
       "      grade  sqft_above  sqft_basement  yr_built  yr_renovated  zipcode  \\\n",
       "9968      7        2430            0.0      1999           NaN    98030   \n",
       "2135      7        1240          570.0      1977           NaN    98178   \n",
       "\n",
       "          lat     long  sqft_living15  sqft_lot15  NO  YES  \n",
       "9968  47.3718 -122.168           3040        5702   1    0  \n",
       "2135  47.4997 -122.231           1810        5641   1    0  "
      ]
     },
     "execution_count": 127,
     "metadata": {},
     "output_type": "execute_result"
    }
   ],
   "source": [
    "# what do the missing values look like?\n",
    "X_train[X_train['yr_renovated'].isna()].head(2)"
   ]
  },
  {
   "cell_type": "markdown",
   "metadata": {},
   "source": [
    "The `yr_renovated` column corresponds to when the house was renovated, if at all. NaN values likely indicate that the house has never experienced a home renovation. Upon closer investigation, there are also '0.0' values under this column which suggest the same thing. \n",
    "\n",
    "For the purposes of this analysis, it would make more sense to classify whether a home has been renovated at any point before and determine whether this has had an impact on the sale price. Thus, lets create a new column called `renovated` with a True or False value associated with each property. "
   ]
  },
  {
   "cell_type": "code",
   "execution_count": 128,
   "metadata": {},
   "outputs": [],
   "source": [
    "# create new column renovated if home has been renovated, \n",
    "X_train['renovated'] = X_train['yr_renovated'] > 0"
   ]
  },
  {
   "cell_type": "code",
   "execution_count": 129,
   "metadata": {},
   "outputs": [
    {
     "data": {
      "text/html": [
       "<div>\n",
       "<style scoped>\n",
       "    .dataframe tbody tr th:only-of-type {\n",
       "        vertical-align: middle;\n",
       "    }\n",
       "\n",
       "    .dataframe tbody tr th {\n",
       "        vertical-align: top;\n",
       "    }\n",
       "\n",
       "    .dataframe thead th {\n",
       "        text-align: right;\n",
       "    }\n",
       "</style>\n",
       "<table border=\"1\" class=\"dataframe\">\n",
       "  <thead>\n",
       "    <tr style=\"text-align: right;\">\n",
       "      <th></th>\n",
       "      <th>bedrooms</th>\n",
       "      <th>bathrooms</th>\n",
       "      <th>sqft_living</th>\n",
       "      <th>sqft_lot</th>\n",
       "      <th>floors</th>\n",
       "      <th>view</th>\n",
       "      <th>condition</th>\n",
       "      <th>grade</th>\n",
       "      <th>sqft_above</th>\n",
       "      <th>sqft_basement</th>\n",
       "      <th>yr_built</th>\n",
       "      <th>yr_renovated</th>\n",
       "      <th>zipcode</th>\n",
       "      <th>lat</th>\n",
       "      <th>long</th>\n",
       "      <th>sqft_living15</th>\n",
       "      <th>sqft_lot15</th>\n",
       "      <th>NO</th>\n",
       "      <th>YES</th>\n",
       "      <th>renovated</th>\n",
       "    </tr>\n",
       "  </thead>\n",
       "  <tbody>\n",
       "    <tr>\n",
       "      <th>18090</th>\n",
       "      <td>2</td>\n",
       "      <td>2.5</td>\n",
       "      <td>1320</td>\n",
       "      <td>48787</td>\n",
       "      <td>1.0</td>\n",
       "      <td>0</td>\n",
       "      <td>2</td>\n",
       "      <td>8</td>\n",
       "      <td>1320</td>\n",
       "      <td>0.0</td>\n",
       "      <td>2004</td>\n",
       "      <td>0.0</td>\n",
       "      <td>98027</td>\n",
       "      <td>47.5157</td>\n",
       "      <td>-121.924</td>\n",
       "      <td>1830</td>\n",
       "      <td>155073</td>\n",
       "      <td>1</td>\n",
       "      <td>0</td>\n",
       "      <td>False</td>\n",
       "    </tr>\n",
       "    <tr>\n",
       "      <th>19824</th>\n",
       "      <td>4</td>\n",
       "      <td>2.5</td>\n",
       "      <td>2090</td>\n",
       "      <td>5195</td>\n",
       "      <td>2.0</td>\n",
       "      <td>0</td>\n",
       "      <td>2</td>\n",
       "      <td>7</td>\n",
       "      <td>2090</td>\n",
       "      <td>0.0</td>\n",
       "      <td>2007</td>\n",
       "      <td>0.0</td>\n",
       "      <td>98031</td>\n",
       "      <td>47.3986</td>\n",
       "      <td>-122.166</td>\n",
       "      <td>2090</td>\n",
       "      <td>5236</td>\n",
       "      <td>1</td>\n",
       "      <td>0</td>\n",
       "      <td>False</td>\n",
       "    </tr>\n",
       "  </tbody>\n",
       "</table>\n",
       "</div>"
      ],
      "text/plain": [
       "       bedrooms  bathrooms  sqft_living  sqft_lot  floors  view  condition  \\\n",
       "18090         2        2.5         1320     48787     1.0     0          2   \n",
       "19824         4        2.5         2090      5195     2.0     0          2   \n",
       "\n",
       "       grade  sqft_above  sqft_basement  yr_built  yr_renovated  zipcode  \\\n",
       "18090      8        1320            0.0      2004           0.0    98027   \n",
       "19824      7        2090            0.0      2007           0.0    98031   \n",
       "\n",
       "           lat     long  sqft_living15  sqft_lot15  NO  YES  renovated  \n",
       "18090  47.5157 -121.924           1830      155073   1    0      False  \n",
       "19824  47.3986 -122.166           2090        5236   1    0      False  "
      ]
     },
     "execution_count": 129,
     "metadata": {},
     "output_type": "execute_result"
    }
   ],
   "source": [
    "X_train.head(2)"
   ]
  },
  {
   "cell_type": "code",
   "execution_count": 130,
   "metadata": {},
   "outputs": [
    {
     "data": {
      "text/html": [
       "<div>\n",
       "<style scoped>\n",
       "    .dataframe tbody tr th:only-of-type {\n",
       "        vertical-align: middle;\n",
       "    }\n",
       "\n",
       "    .dataframe tbody tr th {\n",
       "        vertical-align: top;\n",
       "    }\n",
       "\n",
       "    .dataframe thead th {\n",
       "        text-align: right;\n",
       "    }\n",
       "</style>\n",
       "<table border=\"1\" class=\"dataframe\">\n",
       "  <thead>\n",
       "    <tr style=\"text-align: right;\">\n",
       "      <th></th>\n",
       "      <th>bedrooms</th>\n",
       "      <th>bathrooms</th>\n",
       "      <th>sqft_living</th>\n",
       "      <th>sqft_lot</th>\n",
       "      <th>floors</th>\n",
       "      <th>view</th>\n",
       "      <th>condition</th>\n",
       "      <th>grade</th>\n",
       "      <th>sqft_above</th>\n",
       "      <th>sqft_basement</th>\n",
       "      <th>yr_built</th>\n",
       "      <th>zipcode</th>\n",
       "      <th>lat</th>\n",
       "      <th>long</th>\n",
       "      <th>sqft_living15</th>\n",
       "      <th>sqft_lot15</th>\n",
       "      <th>NO</th>\n",
       "      <th>YES</th>\n",
       "      <th>renovated</th>\n",
       "    </tr>\n",
       "  </thead>\n",
       "  <tbody>\n",
       "    <tr>\n",
       "      <th>18090</th>\n",
       "      <td>2</td>\n",
       "      <td>2.5</td>\n",
       "      <td>1320</td>\n",
       "      <td>48787</td>\n",
       "      <td>1.0</td>\n",
       "      <td>0</td>\n",
       "      <td>2</td>\n",
       "      <td>8</td>\n",
       "      <td>1320</td>\n",
       "      <td>0.0</td>\n",
       "      <td>2004</td>\n",
       "      <td>98027</td>\n",
       "      <td>47.5157</td>\n",
       "      <td>-121.924</td>\n",
       "      <td>1830</td>\n",
       "      <td>155073</td>\n",
       "      <td>1</td>\n",
       "      <td>0</td>\n",
       "      <td>False</td>\n",
       "    </tr>\n",
       "    <tr>\n",
       "      <th>19824</th>\n",
       "      <td>4</td>\n",
       "      <td>2.5</td>\n",
       "      <td>2090</td>\n",
       "      <td>5195</td>\n",
       "      <td>2.0</td>\n",
       "      <td>0</td>\n",
       "      <td>2</td>\n",
       "      <td>7</td>\n",
       "      <td>2090</td>\n",
       "      <td>0.0</td>\n",
       "      <td>2007</td>\n",
       "      <td>98031</td>\n",
       "      <td>47.3986</td>\n",
       "      <td>-122.166</td>\n",
       "      <td>2090</td>\n",
       "      <td>5236</td>\n",
       "      <td>1</td>\n",
       "      <td>0</td>\n",
       "      <td>False</td>\n",
       "    </tr>\n",
       "  </tbody>\n",
       "</table>\n",
       "</div>"
      ],
      "text/plain": [
       "       bedrooms  bathrooms  sqft_living  sqft_lot  floors  view  condition  \\\n",
       "18090         2        2.5         1320     48787     1.0     0          2   \n",
       "19824         4        2.5         2090      5195     2.0     0          2   \n",
       "\n",
       "       grade  sqft_above  sqft_basement  yr_built  zipcode      lat     long  \\\n",
       "18090      8        1320            0.0      2004    98027  47.5157 -121.924   \n",
       "19824      7        2090            0.0      2007    98031  47.3986 -122.166   \n",
       "\n",
       "       sqft_living15  sqft_lot15  NO  YES  renovated  \n",
       "18090           1830      155073   1    0      False  \n",
       "19824           2090        5236   1    0      False  "
      ]
     },
     "execution_count": 130,
     "metadata": {},
     "output_type": "execute_result"
    }
   ],
   "source": [
    "# drop the yr_renovated column\n",
    "X_train.drop(columns = 'yr_renovated', inplace = True)\n",
    "X_train.head(2)"
   ]
  },
  {
   "cell_type": "code",
   "execution_count": 131,
   "metadata": {},
   "outputs": [
    {
     "data": {
      "text/plain": [
       "False    15619\n",
       "True       570\n",
       "Name: renovated, dtype: int64"
      ]
     },
     "execution_count": 131,
     "metadata": {},
     "output_type": "execute_result"
    }
   ],
   "source": [
    "# count bool values now\n",
    "X_train['renovated'].value_counts()"
   ]
  },
  {
   "cell_type": "code",
   "execution_count": 132,
   "metadata": {},
   "outputs": [
    {
     "data": {
      "text/plain": [
       "0    15619\n",
       "1      570\n",
       "Name: renovated, dtype: int64"
      ]
     },
     "execution_count": 132,
     "metadata": {},
     "output_type": "execute_result"
    }
   ],
   "source": [
    "# convert false and true values for renovated into binary values\n",
    "X_train['renovated'] = X_train['renovated'].astype(int)\n",
    "X_train['renovated'].value_counts()"
   ]
  },
  {
   "cell_type": "markdown",
   "metadata": {},
   "source": [
    "### Modified `yr_built`\n",
    "\n",
    "So far all other columns are some sort of integer type. However, when proceeding to modeling, it would make more sense to classify homes based on age rather than the year it was built. \n",
    "\n",
    "We will now create a new column called `age` which will calculate the age for each property up to 2015 (reflecting the year when the data set was retrieved). \n",
    "\n",
    "Note: for the purposes of moving forward in this analysis, we will assume buildings built in 2015 have an age of 1 year (to not have zero values when transforming later on)."
   ]
  },
  {
   "cell_type": "code",
   "execution_count": 133,
   "metadata": {},
   "outputs": [
    {
     "data": {
      "text/html": [
       "<div>\n",
       "<style scoped>\n",
       "    .dataframe tbody tr th:only-of-type {\n",
       "        vertical-align: middle;\n",
       "    }\n",
       "\n",
       "    .dataframe tbody tr th {\n",
       "        vertical-align: top;\n",
       "    }\n",
       "\n",
       "    .dataframe thead th {\n",
       "        text-align: right;\n",
       "    }\n",
       "</style>\n",
       "<table border=\"1\" class=\"dataframe\">\n",
       "  <thead>\n",
       "    <tr style=\"text-align: right;\">\n",
       "      <th></th>\n",
       "      <th>bedrooms</th>\n",
       "      <th>bathrooms</th>\n",
       "      <th>sqft_living</th>\n",
       "      <th>sqft_lot</th>\n",
       "      <th>floors</th>\n",
       "      <th>view</th>\n",
       "      <th>condition</th>\n",
       "      <th>grade</th>\n",
       "      <th>sqft_above</th>\n",
       "      <th>sqft_basement</th>\n",
       "      <th>zipcode</th>\n",
       "      <th>lat</th>\n",
       "      <th>long</th>\n",
       "      <th>sqft_living15</th>\n",
       "      <th>sqft_lot15</th>\n",
       "      <th>NO</th>\n",
       "      <th>YES</th>\n",
       "      <th>renovated</th>\n",
       "      <th>age</th>\n",
       "    </tr>\n",
       "  </thead>\n",
       "  <tbody>\n",
       "    <tr>\n",
       "      <th>5393</th>\n",
       "      <td>4</td>\n",
       "      <td>1.75</td>\n",
       "      <td>2450</td>\n",
       "      <td>13300</td>\n",
       "      <td>1.0</td>\n",
       "      <td>0</td>\n",
       "      <td>3</td>\n",
       "      <td>9</td>\n",
       "      <td>1630</td>\n",
       "      <td>820.0</td>\n",
       "      <td>98006</td>\n",
       "      <td>47.5564</td>\n",
       "      <td>-122.130</td>\n",
       "      <td>3150</td>\n",
       "      <td>15500</td>\n",
       "      <td>1</td>\n",
       "      <td>0</td>\n",
       "      <td>0</td>\n",
       "      <td>29</td>\n",
       "    </tr>\n",
       "    <tr>\n",
       "      <th>860</th>\n",
       "      <td>1</td>\n",
       "      <td>0.75</td>\n",
       "      <td>380</td>\n",
       "      <td>15000</td>\n",
       "      <td>1.0</td>\n",
       "      <td>0</td>\n",
       "      <td>2</td>\n",
       "      <td>5</td>\n",
       "      <td>380</td>\n",
       "      <td>0.0</td>\n",
       "      <td>98168</td>\n",
       "      <td>47.4810</td>\n",
       "      <td>-122.323</td>\n",
       "      <td>1170</td>\n",
       "      <td>15000</td>\n",
       "      <td>1</td>\n",
       "      <td>0</td>\n",
       "      <td>0</td>\n",
       "      <td>53</td>\n",
       "    </tr>\n",
       "    <tr>\n",
       "      <th>15804</th>\n",
       "      <td>4</td>\n",
       "      <td>2.75</td>\n",
       "      <td>2414</td>\n",
       "      <td>7693</td>\n",
       "      <td>2.0</td>\n",
       "      <td>0</td>\n",
       "      <td>2</td>\n",
       "      <td>8</td>\n",
       "      <td>2414</td>\n",
       "      <td>0.0</td>\n",
       "      <td>98002</td>\n",
       "      <td>47.3046</td>\n",
       "      <td>-122.222</td>\n",
       "      <td>1500</td>\n",
       "      <td>7177</td>\n",
       "      <td>1</td>\n",
       "      <td>0</td>\n",
       "      <td>0</td>\n",
       "      <td>10</td>\n",
       "    </tr>\n",
       "  </tbody>\n",
       "</table>\n",
       "</div>"
      ],
      "text/plain": [
       "       bedrooms  bathrooms  sqft_living  sqft_lot  floors  view  condition  \\\n",
       "5393          4       1.75         2450     13300     1.0     0          3   \n",
       "860           1       0.75          380     15000     1.0     0          2   \n",
       "15804         4       2.75         2414      7693     2.0     0          2   \n",
       "\n",
       "       grade  sqft_above  sqft_basement  zipcode      lat     long  \\\n",
       "5393       9        1630          820.0    98006  47.5564 -122.130   \n",
       "860        5         380            0.0    98168  47.4810 -122.323   \n",
       "15804      8        2414            0.0    98002  47.3046 -122.222   \n",
       "\n",
       "       sqft_living15  sqft_lot15  NO  YES  renovated  age  \n",
       "5393            3150       15500   1    0          0   29  \n",
       "860             1170       15000   1    0          0   53  \n",
       "15804           1500        7177   1    0          0   10  "
      ]
     },
     "execution_count": 133,
     "metadata": {},
     "output_type": "execute_result"
    }
   ],
   "source": [
    "# create new age column determined by difference from 2015\n",
    "X_train['age'] = 2016 - X_train['yr_built']\n",
    "\n",
    "# drop yr_built\n",
    "X_train.drop(columns = 'yr_built', inplace = True)\n",
    "\n",
    "X_train.tail(3)"
   ]
  },
  {
   "cell_type": "markdown",
   "metadata": {},
   "source": [
    "Lets perform a final check now:"
   ]
  },
  {
   "cell_type": "code",
   "execution_count": 134,
   "metadata": {
    "scrolled": false
   },
   "outputs": [
    {
     "name": "stdout",
     "output_type": "stream",
     "text": [
      "<class 'pandas.core.frame.DataFrame'>\n",
      "Int64Index: 16189 entries, 18090 to 15804\n",
      "Data columns (total 19 columns):\n",
      " #   Column         Non-Null Count  Dtype  \n",
      "---  ------         --------------  -----  \n",
      " 0   bedrooms       16189 non-null  int64  \n",
      " 1   bathrooms      16189 non-null  float64\n",
      " 2   sqft_living    16189 non-null  int64  \n",
      " 3   sqft_lot       16189 non-null  int64  \n",
      " 4   floors         16189 non-null  float64\n",
      " 5   view           16189 non-null  int8   \n",
      " 6   condition      16189 non-null  int8   \n",
      " 7   grade          16189 non-null  int64  \n",
      " 8   sqft_above     16189 non-null  int64  \n",
      " 9   sqft_basement  16189 non-null  float64\n",
      " 10  zipcode        16189 non-null  int64  \n",
      " 11  lat            16189 non-null  float64\n",
      " 12  long           16189 non-null  float64\n",
      " 13  sqft_living15  16189 non-null  int64  \n",
      " 14  sqft_lot15     16189 non-null  int64  \n",
      " 15  NO             16189 non-null  uint8  \n",
      " 16  YES            16189 non-null  uint8  \n",
      " 17  renovated      16189 non-null  int64  \n",
      " 18  age            16189 non-null  int64  \n",
      "dtypes: float64(5), int64(10), int8(2), uint8(2)\n",
      "memory usage: 2.0 MB\n"
     ]
    }
   ],
   "source": [
    "X_train.info()"
   ]
  },
  {
   "cell_type": "code",
   "execution_count": 135,
   "metadata": {},
   "outputs": [
    {
     "data": {
      "text/plain": [
       "bedrooms         0\n",
       "bathrooms        0\n",
       "sqft_living      0\n",
       "sqft_lot         0\n",
       "floors           0\n",
       "view             0\n",
       "condition        0\n",
       "grade            0\n",
       "sqft_above       0\n",
       "sqft_basement    0\n",
       "zipcode          0\n",
       "lat              0\n",
       "long             0\n",
       "sqft_living15    0\n",
       "sqft_lot15       0\n",
       "NO               0\n",
       "YES              0\n",
       "renovated        0\n",
       "age              0\n",
       "dtype: int64"
      ]
     },
     "execution_count": 135,
     "metadata": {},
     "output_type": "execute_result"
    }
   ],
   "source": [
    "X_train.isna().sum()"
   ]
  },
  {
   "cell_type": "code",
   "execution_count": 136,
   "metadata": {},
   "outputs": [
    {
     "data": {
      "text/html": [
       "<div>\n",
       "<style scoped>\n",
       "    .dataframe tbody tr th:only-of-type {\n",
       "        vertical-align: middle;\n",
       "    }\n",
       "\n",
       "    .dataframe tbody tr th {\n",
       "        vertical-align: top;\n",
       "    }\n",
       "\n",
       "    .dataframe thead th {\n",
       "        text-align: right;\n",
       "    }\n",
       "</style>\n",
       "<table border=\"1\" class=\"dataframe\">\n",
       "  <thead>\n",
       "    <tr style=\"text-align: right;\">\n",
       "      <th></th>\n",
       "      <th>bedrooms</th>\n",
       "      <th>bathrooms</th>\n",
       "      <th>sqft_living</th>\n",
       "      <th>sqft_lot</th>\n",
       "      <th>floors</th>\n",
       "      <th>view</th>\n",
       "      <th>condition</th>\n",
       "      <th>grade</th>\n",
       "      <th>sqft_above</th>\n",
       "      <th>sqft_basement</th>\n",
       "      <th>zipcode</th>\n",
       "      <th>lat</th>\n",
       "      <th>long</th>\n",
       "      <th>sqft_living15</th>\n",
       "      <th>sqft_lot15</th>\n",
       "      <th>NO</th>\n",
       "      <th>YES</th>\n",
       "      <th>renovated</th>\n",
       "      <th>age</th>\n",
       "    </tr>\n",
       "  </thead>\n",
       "  <tbody>\n",
       "    <tr>\n",
       "      <th>11971</th>\n",
       "      <td>4</td>\n",
       "      <td>1.75</td>\n",
       "      <td>2310</td>\n",
       "      <td>8045</td>\n",
       "      <td>1.0</td>\n",
       "      <td>0</td>\n",
       "      <td>3</td>\n",
       "      <td>7</td>\n",
       "      <td>1650</td>\n",
       "      <td>660.0</td>\n",
       "      <td>98058</td>\n",
       "      <td>47.4569</td>\n",
       "      <td>-122.165</td>\n",
       "      <td>1790</td>\n",
       "      <td>8086</td>\n",
       "      <td>1</td>\n",
       "      <td>0</td>\n",
       "      <td>0</td>\n",
       "      <td>40</td>\n",
       "    </tr>\n",
       "    <tr>\n",
       "      <th>21586</th>\n",
       "      <td>3</td>\n",
       "      <td>1.75</td>\n",
       "      <td>1500</td>\n",
       "      <td>11968</td>\n",
       "      <td>1.0</td>\n",
       "      <td>0</td>\n",
       "      <td>2</td>\n",
       "      <td>6</td>\n",
       "      <td>1500</td>\n",
       "      <td>0.0</td>\n",
       "      <td>98010</td>\n",
       "      <td>47.3095</td>\n",
       "      <td>-122.002</td>\n",
       "      <td>1320</td>\n",
       "      <td>11303</td>\n",
       "      <td>0</td>\n",
       "      <td>0</td>\n",
       "      <td>0</td>\n",
       "      <td>2</td>\n",
       "    </tr>\n",
       "    <tr>\n",
       "      <th>5393</th>\n",
       "      <td>4</td>\n",
       "      <td>1.75</td>\n",
       "      <td>2450</td>\n",
       "      <td>13300</td>\n",
       "      <td>1.0</td>\n",
       "      <td>0</td>\n",
       "      <td>3</td>\n",
       "      <td>9</td>\n",
       "      <td>1630</td>\n",
       "      <td>820.0</td>\n",
       "      <td>98006</td>\n",
       "      <td>47.5564</td>\n",
       "      <td>-122.130</td>\n",
       "      <td>3150</td>\n",
       "      <td>15500</td>\n",
       "      <td>1</td>\n",
       "      <td>0</td>\n",
       "      <td>0</td>\n",
       "      <td>29</td>\n",
       "    </tr>\n",
       "    <tr>\n",
       "      <th>860</th>\n",
       "      <td>1</td>\n",
       "      <td>0.75</td>\n",
       "      <td>380</td>\n",
       "      <td>15000</td>\n",
       "      <td>1.0</td>\n",
       "      <td>0</td>\n",
       "      <td>2</td>\n",
       "      <td>5</td>\n",
       "      <td>380</td>\n",
       "      <td>0.0</td>\n",
       "      <td>98168</td>\n",
       "      <td>47.4810</td>\n",
       "      <td>-122.323</td>\n",
       "      <td>1170</td>\n",
       "      <td>15000</td>\n",
       "      <td>1</td>\n",
       "      <td>0</td>\n",
       "      <td>0</td>\n",
       "      <td>53</td>\n",
       "    </tr>\n",
       "    <tr>\n",
       "      <th>15804</th>\n",
       "      <td>4</td>\n",
       "      <td>2.75</td>\n",
       "      <td>2414</td>\n",
       "      <td>7693</td>\n",
       "      <td>2.0</td>\n",
       "      <td>0</td>\n",
       "      <td>2</td>\n",
       "      <td>8</td>\n",
       "      <td>2414</td>\n",
       "      <td>0.0</td>\n",
       "      <td>98002</td>\n",
       "      <td>47.3046</td>\n",
       "      <td>-122.222</td>\n",
       "      <td>1500</td>\n",
       "      <td>7177</td>\n",
       "      <td>1</td>\n",
       "      <td>0</td>\n",
       "      <td>0</td>\n",
       "      <td>10</td>\n",
       "    </tr>\n",
       "  </tbody>\n",
       "</table>\n",
       "</div>"
      ],
      "text/plain": [
       "       bedrooms  bathrooms  sqft_living  sqft_lot  floors  view  condition  \\\n",
       "11971         4       1.75         2310      8045     1.0     0          3   \n",
       "21586         3       1.75         1500     11968     1.0     0          2   \n",
       "5393          4       1.75         2450     13300     1.0     0          3   \n",
       "860           1       0.75          380     15000     1.0     0          2   \n",
       "15804         4       2.75         2414      7693     2.0     0          2   \n",
       "\n",
       "       grade  sqft_above  sqft_basement  zipcode      lat     long  \\\n",
       "11971      7        1650          660.0    98058  47.4569 -122.165   \n",
       "21586      6        1500            0.0    98010  47.3095 -122.002   \n",
       "5393       9        1630          820.0    98006  47.5564 -122.130   \n",
       "860        5         380            0.0    98168  47.4810 -122.323   \n",
       "15804      8        2414            0.0    98002  47.3046 -122.222   \n",
       "\n",
       "       sqft_living15  sqft_lot15  NO  YES  renovated  age  \n",
       "11971           1790        8086   1    0          0   40  \n",
       "21586           1320       11303   0    0          0    2  \n",
       "5393            3150       15500   1    0          0   29  \n",
       "860             1170       15000   1    0          0   53  \n",
       "15804           1500        7177   1    0          0   10  "
      ]
     },
     "execution_count": 136,
     "metadata": {},
     "output_type": "execute_result"
    }
   ],
   "source": [
    "X_train.tail()"
   ]
  },
  {
   "cell_type": "markdown",
   "metadata": {},
   "source": [
    "Great, now that we've handled all the missing values and did some preprocessing and have all numerical values, lets now look at the data."
   ]
  },
  {
   "cell_type": "markdown",
   "metadata": {},
   "source": [
    "## 3. Testing Regression Models (Price as the Target)\n",
    "\n",
    "Lets now go through an iterative investigation process to test out our train sets and make necessary adjustments based on the model's performance. "
   ]
  },
  {
   "cell_type": "markdown",
   "metadata": {},
   "source": [
    "## 2nd Model (after initial preprocessing)"
   ]
  },
  {
   "cell_type": "code",
   "execution_count": 137,
   "metadata": {},
   "outputs": [],
   "source": [
    "# rename X_train variable for second model train\n",
    "second_model_X_train = X_train"
   ]
  },
  {
   "cell_type": "code",
   "execution_count": 138,
   "metadata": {
    "scrolled": true
   },
   "outputs": [
    {
     "data": {
      "text/html": [
       "<table class=\"simpletable\">\n",
       "<caption>OLS Regression Results</caption>\n",
       "<tr>\n",
       "  <th>Dep. Variable:</th>          <td>price</td>      <th>  R-squared:         </th> <td>   0.772</td>\n",
       "</tr>\n",
       "<tr>\n",
       "  <th>Model:</th>                   <td>OLS</td>       <th>  Adj. R-squared:    </th> <td>   0.772</td>\n",
       "</tr>\n",
       "<tr>\n",
       "  <th>Method:</th>             <td>Least Squares</td>  <th>  F-statistic:       </th> <td>   2884.</td>\n",
       "</tr>\n",
       "<tr>\n",
       "  <th>Date:</th>             <td>Tue, 21 Jun 2022</td> <th>  Prob (F-statistic):</th>  <td>  0.00</td> \n",
       "</tr>\n",
       "<tr>\n",
       "  <th>Time:</th>                 <td>21:39:25</td>     <th>  Log-Likelihood:    </th> <td> -577.41</td>\n",
       "</tr>\n",
       "<tr>\n",
       "  <th>No. Observations:</th>      <td> 16189</td>      <th>  AIC:               </th> <td>   1195.</td>\n",
       "</tr>\n",
       "<tr>\n",
       "  <th>Df Residuals:</th>          <td> 16169</td>      <th>  BIC:               </th> <td>   1349.</td>\n",
       "</tr>\n",
       "<tr>\n",
       "  <th>Df Model:</th>              <td>    19</td>      <th>                     </th>     <td> </td>   \n",
       "</tr>\n",
       "<tr>\n",
       "  <th>Covariance Type:</th>      <td>nonrobust</td>    <th>                     </th>     <td> </td>   \n",
       "</tr>\n",
       "</table>\n",
       "<table class=\"simpletable\">\n",
       "<tr>\n",
       "        <td></td>           <th>coef</th>     <th>std err</th>      <th>t</th>      <th>P>|t|</th>  <th>[0.025</th>    <th>0.975]</th>  \n",
       "</tr>\n",
       "<tr>\n",
       "  <th>const</th>         <td>  -13.4411</td> <td>    4.160</td> <td>   -3.231</td> <td> 0.001</td> <td>  -21.595</td> <td>   -5.287</td>\n",
       "</tr>\n",
       "<tr>\n",
       "  <th>bedrooms</th>      <td>   -0.0156</td> <td>    0.003</td> <td>   -5.417</td> <td> 0.000</td> <td>   -0.021</td> <td>   -0.010</td>\n",
       "</tr>\n",
       "<tr>\n",
       "  <th>bathrooms</th>     <td>    0.0690</td> <td>    0.005</td> <td>   14.575</td> <td> 0.000</td> <td>    0.060</td> <td>    0.078</td>\n",
       "</tr>\n",
       "<tr>\n",
       "  <th>sqft_living</th>   <td>    0.0001</td> <td> 2.56e-05</td> <td>    5.377</td> <td> 0.000</td> <td> 8.76e-05</td> <td>    0.000</td>\n",
       "</tr>\n",
       "<tr>\n",
       "  <th>sqft_lot</th>      <td> 5.031e-07</td> <td> 6.98e-08</td> <td>    7.203</td> <td> 0.000</td> <td> 3.66e-07</td> <td>  6.4e-07</td>\n",
       "</tr>\n",
       "<tr>\n",
       "  <th>floors</th>        <td>    0.0756</td> <td>    0.005</td> <td>   14.648</td> <td> 0.000</td> <td>    0.066</td> <td>    0.086</td>\n",
       "</tr>\n",
       "<tr>\n",
       "  <th>view</th>          <td>    0.0616</td> <td>    0.003</td> <td>   20.228</td> <td> 0.000</td> <td>    0.056</td> <td>    0.068</td>\n",
       "</tr>\n",
       "<tr>\n",
       "  <th>condition</th>     <td>    0.0603</td> <td>    0.003</td> <td>   17.838</td> <td> 0.000</td> <td>    0.054</td> <td>    0.067</td>\n",
       "</tr>\n",
       "<tr>\n",
       "  <th>grade</th>         <td>    0.1583</td> <td>    0.003</td> <td>   50.780</td> <td> 0.000</td> <td>    0.152</td> <td>    0.164</td>\n",
       "</tr>\n",
       "<tr>\n",
       "  <th>sqft_above</th>    <td> 5.134e-06</td> <td> 2.56e-05</td> <td>    0.201</td> <td> 0.841</td> <td> -4.5e-05</td> <td> 5.53e-05</td>\n",
       "</tr>\n",
       "<tr>\n",
       "  <th>sqft_basement</th> <td> 2.459e-05</td> <td> 2.53e-05</td> <td>    0.970</td> <td> 0.332</td> <td>-2.51e-05</td> <td> 7.43e-05</td>\n",
       "</tr>\n",
       "<tr>\n",
       "  <th>zipcode</th>       <td>   -0.0006</td> <td> 4.75e-05</td> <td>  -13.211</td> <td> 0.000</td> <td>   -0.001</td> <td>   -0.001</td>\n",
       "</tr>\n",
       "<tr>\n",
       "  <th>lat</th>           <td>    1.4009</td> <td>    0.016</td> <td>   90.343</td> <td> 0.000</td> <td>    1.371</td> <td>    1.431</td>\n",
       "</tr>\n",
       "<tr>\n",
       "  <th>long</th>          <td>   -0.1572</td> <td>    0.019</td> <td>   -8.325</td> <td> 0.000</td> <td>   -0.194</td> <td>   -0.120</td>\n",
       "</tr>\n",
       "<tr>\n",
       "  <th>sqft_living15</th> <td> 9.525e-05</td> <td> 5.03e-06</td> <td>   18.953</td> <td> 0.000</td> <td> 8.54e-05</td> <td>    0.000</td>\n",
       "</tr>\n",
       "<tr>\n",
       "  <th>sqft_lot15</th>    <td>-2.759e-07</td> <td> 1.06e-07</td> <td>   -2.609</td> <td> 0.009</td> <td>-4.83e-07</td> <td>-6.86e-08</td>\n",
       "</tr>\n",
       "<tr>\n",
       "  <th>NO</th>            <td>    0.0077</td> <td>    0.006</td> <td>    1.212</td> <td> 0.226</td> <td>   -0.005</td> <td>    0.020</td>\n",
       "</tr>\n",
       "<tr>\n",
       "  <th>YES</th>           <td>    0.4209</td> <td>    0.027</td> <td>   15.432</td> <td> 0.000</td> <td>    0.367</td> <td>    0.474</td>\n",
       "</tr>\n",
       "<tr>\n",
       "  <th>renovated</th>     <td>    0.0837</td> <td>    0.011</td> <td>    7.411</td> <td> 0.000</td> <td>    0.062</td> <td>    0.106</td>\n",
       "</tr>\n",
       "<tr>\n",
       "  <th>age</th>           <td>    0.0034</td> <td>    0.000</td> <td>   32.939</td> <td> 0.000</td> <td>    0.003</td> <td>    0.004</td>\n",
       "</tr>\n",
       "</table>\n",
       "<table class=\"simpletable\">\n",
       "<tr>\n",
       "  <th>Omnibus:</th>       <td>207.406</td> <th>  Durbin-Watson:     </th> <td>   1.989</td>\n",
       "</tr>\n",
       "<tr>\n",
       "  <th>Prob(Omnibus):</th> <td> 0.000</td>  <th>  Jarque-Bera (JB):  </th> <td> 378.995</td>\n",
       "</tr>\n",
       "<tr>\n",
       "  <th>Skew:</th>          <td>-0.009</td>  <th>  Prob(JB):          </th> <td>5.04e-83</td>\n",
       "</tr>\n",
       "<tr>\n",
       "  <th>Kurtosis:</th>      <td> 3.749</td>  <th>  Cond. No.          </th> <td>2.12e+08</td>\n",
       "</tr>\n",
       "</table><br/><br/>Notes:<br/>[1] Standard Errors assume that the covariance matrix of the errors is correctly specified.<br/>[2] The condition number is large, 2.12e+08. This might indicate that there are<br/>strong multicollinearity or other numerical problems."
      ],
      "text/plain": [
       "<class 'statsmodels.iolib.summary.Summary'>\n",
       "\"\"\"\n",
       "                            OLS Regression Results                            \n",
       "==============================================================================\n",
       "Dep. Variable:                  price   R-squared:                       0.772\n",
       "Model:                            OLS   Adj. R-squared:                  0.772\n",
       "Method:                 Least Squares   F-statistic:                     2884.\n",
       "Date:                Tue, 21 Jun 2022   Prob (F-statistic):               0.00\n",
       "Time:                        21:39:25   Log-Likelihood:                -577.41\n",
       "No. Observations:               16189   AIC:                             1195.\n",
       "Df Residuals:                   16169   BIC:                             1349.\n",
       "Df Model:                          19                                         \n",
       "Covariance Type:            nonrobust                                         \n",
       "=================================================================================\n",
       "                    coef    std err          t      P>|t|      [0.025      0.975]\n",
       "---------------------------------------------------------------------------------\n",
       "const           -13.4411      4.160     -3.231      0.001     -21.595      -5.287\n",
       "bedrooms         -0.0156      0.003     -5.417      0.000      -0.021      -0.010\n",
       "bathrooms         0.0690      0.005     14.575      0.000       0.060       0.078\n",
       "sqft_living       0.0001   2.56e-05      5.377      0.000    8.76e-05       0.000\n",
       "sqft_lot       5.031e-07   6.98e-08      7.203      0.000    3.66e-07     6.4e-07\n",
       "floors            0.0756      0.005     14.648      0.000       0.066       0.086\n",
       "view              0.0616      0.003     20.228      0.000       0.056       0.068\n",
       "condition         0.0603      0.003     17.838      0.000       0.054       0.067\n",
       "grade             0.1583      0.003     50.780      0.000       0.152       0.164\n",
       "sqft_above     5.134e-06   2.56e-05      0.201      0.841    -4.5e-05    5.53e-05\n",
       "sqft_basement  2.459e-05   2.53e-05      0.970      0.332   -2.51e-05    7.43e-05\n",
       "zipcode          -0.0006   4.75e-05    -13.211      0.000      -0.001      -0.001\n",
       "lat               1.4009      0.016     90.343      0.000       1.371       1.431\n",
       "long             -0.1572      0.019     -8.325      0.000      -0.194      -0.120\n",
       "sqft_living15  9.525e-05   5.03e-06     18.953      0.000    8.54e-05       0.000\n",
       "sqft_lot15    -2.759e-07   1.06e-07     -2.609      0.009   -4.83e-07   -6.86e-08\n",
       "NO                0.0077      0.006      1.212      0.226      -0.005       0.020\n",
       "YES               0.4209      0.027     15.432      0.000       0.367       0.474\n",
       "renovated         0.0837      0.011      7.411      0.000       0.062       0.106\n",
       "age               0.0034      0.000     32.939      0.000       0.003       0.004\n",
       "==============================================================================\n",
       "Omnibus:                      207.406   Durbin-Watson:                   1.989\n",
       "Prob(Omnibus):                  0.000   Jarque-Bera (JB):              378.995\n",
       "Skew:                          -0.009   Prob(JB):                     5.04e-83\n",
       "Kurtosis:                       3.749   Cond. No.                     2.12e+08\n",
       "==============================================================================\n",
       "\n",
       "Notes:\n",
       "[1] Standard Errors assume that the covariance matrix of the errors is correctly specified.\n",
       "[2] The condition number is large, 2.12e+08. This might indicate that there are\n",
       "strong multicollinearity or other numerical problems.\n",
       "\"\"\""
      ]
     },
     "execution_count": 138,
     "metadata": {},
     "output_type": "execute_result"
    }
   ],
   "source": [
    "second_model_OLS = sm.OLS(endog=y_train, exog=sm.add_constant(second_model_X_train)).fit()\n",
    "second_model_OLS.summary()"
   ]
  },
  {
   "cell_type": "markdown",
   "metadata": {},
   "source": [
    "**Interpretation**: Our R2 value increased to 0.772 simply by preprocessing the training set data. Compared to our previous baseline model (R2 = 0.48), we have increased the R2 by about 0.28!\n",
    "\n",
    "However, our condition number is very large. See Note [2]. There are multicollinearity problems in our second model. This was expected due to the fact we included all these predictor variables which may or may not have multicollinearity with each other. "
   ]
  },
  {
   "cell_type": "code",
   "execution_count": 139,
   "metadata": {},
   "outputs": [
    {
     "name": "stdout",
     "output_type": "stream",
     "text": [
      "2nd Model Train R2: 0.7721\n",
      "\n",
      "Validation\n",
      "2nd Model Validation Train score: 0.7714\n",
      "2nd Model Validation Test score: 0.7737\n",
      "\n",
      "Baseline Model\n",
      "Train score:      0.4833\n",
      "Validation score: 0.4889\n"
     ]
    }
   ],
   "source": [
    "# instantiate the linear regression model\n",
    "second_model_lr = LinearRegression()\n",
    "second_model_lr\n",
    "\n",
    "# Fit our model\n",
    "second_model_lr.fit(second_model_X_train, y_train)\n",
    "\n",
    "# Get our R2 score\n",
    "print('2nd Model Train R2:', round(second_model_lr.score(second_model_X_train, y_train), 4))\n",
    "print()\n",
    "\n",
    "# cross validate the second model\n",
    "second_model_scores = cross_validate(\n",
    "    estimator = second_model_lr,\n",
    "    X = second_model_X_train,\n",
    "    y = y_train,\n",
    "    return_train_score=True,\n",
    "    cv=splitter\n",
    ")\n",
    "\n",
    "print(\"Validation\")\n",
    "print(\"2nd Model Validation Train score:\", round(second_model_scores[\"train_score\"].mean(),4))\n",
    "print(\"2nd Model Validation Test score:\", round(second_model_scores[\"test_score\"].mean(),4))\n",
    "print()\n",
    "print(\"Baseline Model\")\n",
    "print(\"Train score:     \", round(baseline_scores[\"train_score\"].mean(),4))\n",
    "print(\"Validation score:\", round(baseline_scores[\"test_score\"].mean(),4))"
   ]
  },
  {
   "cell_type": "markdown",
   "metadata": {},
   "source": [
    "Checking the validation of my second model, we further confirm that the second model performed significantly better than the baseline model and has a higher validation score as well. \n",
    "\n",
    "**Note:** I have not included the `Test R2` because I have not yet transformed and scaled the test set yet. I will aim to do this at the end once I have a satisfactory R2. As an alternative, I will be checking for validation on the test set throughout, which should be a good indicator that the test set will also perform well. "
   ]
  },
  {
   "cell_type": "markdown",
   "metadata": {},
   "source": [
    "### Possible Multicollinearity\n",
    "\n",
    "# check Multicollinearity of Features LAB\n",
    "\n",
    "Lets first look at the relationship between variables by making a correlational heatmap between the predictor variables. "
   ]
  },
  {
   "cell_type": "code",
   "execution_count": 140,
   "metadata": {},
   "outputs": [
    {
     "data": {
      "image/png": "[encoded data removed]",
      "text/plain": [
       "<Figure size 1080x720 with 2 Axes>"
      ]
     },
     "metadata": {},
     "output_type": "display_data"
    }
   ],
   "source": [
    "sns.set_theme(style=\"white\")\n",
    "\n",
    "# set up figure size\n",
    "fig, ax = plt.subplots(figsize=(15, 10))\n",
    "\n",
    "# set up correlation matrix\n",
    "corr = X_train.corr()\n",
    "\n",
    "# Generate a mask for the upper triangle\n",
    "mask = np.triu(np.ones_like(corr, dtype=bool))\n",
    "\n",
    "sns.heatmap(corr, mask = mask, cmap = 'coolwarm', vmax = 0.3, center = 0,\n",
    "            square = True, linewidths = 0.5, cbar_kws = {'shrink': 0.5}, annot = True)\n",
    "\n",
    "plt.show()"
   ]
  },
  {
   "cell_type": "markdown",
   "metadata": {},
   "source": [
    "## Feature Selection\n",
    "\n",
    "Given that we included all predictors in the second model, there was bound to be some sort of relationship between the predictor variables. So lets try choosing variables where the p-value is less than a confidence level of alpha = 0.05, and see how this has affected the model. \n",
    "\n",
    "## DONT NEED tO REMOVE ALPHA VALUES JUST YET, SEE BELOW CODE"
   ]
  },
  {
   "cell_type": "code",
   "execution_count": 141,
   "metadata": {},
   "outputs": [],
   "source": [
    "# choose columns with p value less than 0.05\n",
    "features = ['bedrooms', 'bathrooms', 'sqft_living', \n",
    "            'floors', 'view','condition', \n",
    "            'grade', 'sqft_above', 'sqft_basement', \n",
    "            'zipcode', 'lat', 'long', \n",
    "            'sqft_living15', 'sqft_lot15', 'renovated',\n",
    "            'age']\n",
    "\n",
    "# assign to X_third \n",
    "X_third = X_train[features]"
   ]
  },
  {
   "cell_type": "markdown",
   "metadata": {},
   "source": [
    "### Scaling the Predictors"
   ]
  },
  {
   "cell_type": "markdown",
   "metadata": {},
   "source": [
    "Earlier, we log scaled the target variable price but didnt do the same for the predictor variables. Lets do the same now for the predictors that are **continuous** variables to create a more normal distribution and see how that also impacts our overall R2. \n",
    "\n",
    "To visualize the distribution of our remaining predictors, see below of non-normal distributions that may need to be scaled. Note that some of the remaining variables are non-continuous and are discrete categorical variables. Thus, scaling the discrete categorical variables will not be necessary. "
   ]
  },
  {
   "cell_type": "code",
   "execution_count": 142,
   "metadata": {
    "scrolled": false
   },
   "outputs": [
    {
     "data": {
      "image/png": "[encoded data removed]",
      "text/plain": [
       "<Figure size 864x1800 with 16 Axes>"
      ]
     },
     "metadata": {},
     "output_type": "display_data"
    }
   ],
   "source": [
    "# set up figure for remaining predictor variables in X_third\n",
    "fig, axes = plt.subplots(nrows=(X_third.shape[1] // 4), ncols=4, figsize=(12,25))\n",
    "\n",
    "# for each col in X_third, plot distribution\n",
    "for col, ax in zip(X_third, axes.flatten()):\n",
    "    ax.hist(X_third[col], bins='auto')\n",
    "    ax.set_title(col)\n",
    "    \n",
    "fig.tight_layout()"
   ]
  },
  {
   "cell_type": "markdown",
   "metadata": {},
   "source": [
    "Based on this distibution of our remaining predictors, I will scale the following continuous variables only: \n",
    "\n",
    "- `sqft_living`\n",
    "- `sqft_above`\n",
    "- `sqft_living15`\n",
    "- `age`\n",
    "\n",
    "Note that the `sqft_basement` has many 0 values (likely associated with many properties without a basement), we may move forward without `sqft_basement` as a predictor for now as it seems like there are other related variables that provide more significance.  \n",
    "\n",
    "Also, while latitude and longitude are classified as continuous variables, we will not select these predictors for log scaling as it doesn't make sense when it comes to scaling a value assoicated with specific locations. "
   ]
  },
  {
   "cell_type": "code",
   "execution_count": 143,
   "metadata": {},
   "outputs": [],
   "source": [
    "# choose continous variable columns to log\n",
    "cont = ['sqft_living','sqft_above',  \n",
    "        'sqft_living15','age']\n",
    "\n",
    "# assign to X_cont\n",
    "X_cont = X_third[cont]"
   ]
  },
  {
   "cell_type": "code",
   "execution_count": 144,
   "metadata": {},
   "outputs": [
    {
     "data": {
      "image/png": "[encoded data removed]",
      "text/plain": [
       "<Figure size 576x576 with 4 Axes>"
      ]
     },
     "metadata": {},
     "output_type": "display_data"
    }
   ],
   "source": [
    "# to see distribution before logging\n",
    "X_cont.hist(figsize  = [8, 8], bins='auto');"
   ]
  },
  {
   "cell_type": "code",
   "execution_count": 145,
   "metadata": {},
   "outputs": [
    {
     "data": {
      "image/png": "[encoded data removed]",
      "text/plain": [
       "<Figure size 720x720 with 4 Axes>"
      ]
     },
     "metadata": {},
     "output_type": "display_data"
    }
   ],
   "source": [
    "# perform log on continuous variables\n",
    "log_names = [f'{column}_log' for column in X_cont.columns]\n",
    "\n",
    "cont_log = np.log(X_cont)\n",
    "cont_log.columns = log_names\n",
    "cont_log.hist(figsize=(10, 10), bins='auto')\n",
    "fig.tight_layout();\n"
   ]
  },
  {
   "cell_type": "code",
   "execution_count": 146,
   "metadata": {},
   "outputs": [
    {
     "data": {
      "text/html": [
       "<div>\n",
       "<style scoped>\n",
       "    .dataframe tbody tr th:only-of-type {\n",
       "        vertical-align: middle;\n",
       "    }\n",
       "\n",
       "    .dataframe tbody tr th {\n",
       "        vertical-align: top;\n",
       "    }\n",
       "\n",
       "    .dataframe thead th {\n",
       "        text-align: right;\n",
       "    }\n",
       "</style>\n",
       "<table border=\"1\" class=\"dataframe\">\n",
       "  <thead>\n",
       "    <tr style=\"text-align: right;\">\n",
       "      <th></th>\n",
       "      <th>sqft_living_log</th>\n",
       "      <th>sqft_above_log</th>\n",
       "      <th>sqft_living15_log</th>\n",
       "      <th>age_log</th>\n",
       "    </tr>\n",
       "  </thead>\n",
       "  <tbody>\n",
       "    <tr>\n",
       "      <th>18090</th>\n",
       "      <td>7.185387</td>\n",
       "      <td>7.185387</td>\n",
       "      <td>7.512071</td>\n",
       "      <td>2.484907</td>\n",
       "    </tr>\n",
       "    <tr>\n",
       "      <th>19824</th>\n",
       "      <td>7.644919</td>\n",
       "      <td>7.644919</td>\n",
       "      <td>7.644919</td>\n",
       "      <td>2.197225</td>\n",
       "    </tr>\n",
       "  </tbody>\n",
       "</table>\n",
       "</div>"
      ],
      "text/plain": [
       "       sqft_living_log  sqft_above_log  sqft_living15_log   age_log\n",
       "18090         7.185387        7.185387           7.512071  2.484907\n",
       "19824         7.644919        7.644919           7.644919  2.197225"
      ]
     },
     "execution_count": 146,
     "metadata": {},
     "output_type": "execute_result"
    }
   ],
   "source": [
    "# preview \n",
    "cont_log.head(2)"
   ]
  },
  {
   "cell_type": "code",
   "execution_count": 147,
   "metadata": {},
   "outputs": [
    {
     "data": {
      "text/html": [
       "<div>\n",
       "<style scoped>\n",
       "    .dataframe tbody tr th:only-of-type {\n",
       "        vertical-align: middle;\n",
       "    }\n",
       "\n",
       "    .dataframe tbody tr th {\n",
       "        vertical-align: top;\n",
       "    }\n",
       "\n",
       "    .dataframe thead th {\n",
       "        text-align: right;\n",
       "    }\n",
       "</style>\n",
       "<table border=\"1\" class=\"dataframe\">\n",
       "  <thead>\n",
       "    <tr style=\"text-align: right;\">\n",
       "      <th></th>\n",
       "      <th>bedrooms</th>\n",
       "      <th>bathrooms</th>\n",
       "      <th>sqft_living</th>\n",
       "      <th>floors</th>\n",
       "      <th>view</th>\n",
       "      <th>condition</th>\n",
       "      <th>grade</th>\n",
       "      <th>sqft_above</th>\n",
       "      <th>sqft_basement</th>\n",
       "      <th>zipcode</th>\n",
       "      <th>lat</th>\n",
       "      <th>long</th>\n",
       "      <th>sqft_living15</th>\n",
       "      <th>sqft_lot15</th>\n",
       "      <th>renovated</th>\n",
       "      <th>age</th>\n",
       "    </tr>\n",
       "  </thead>\n",
       "  <tbody>\n",
       "    <tr>\n",
       "      <th>18090</th>\n",
       "      <td>2</td>\n",
       "      <td>2.5</td>\n",
       "      <td>1320</td>\n",
       "      <td>1.0</td>\n",
       "      <td>0</td>\n",
       "      <td>2</td>\n",
       "      <td>8</td>\n",
       "      <td>1320</td>\n",
       "      <td>0.0</td>\n",
       "      <td>98027</td>\n",
       "      <td>47.5157</td>\n",
       "      <td>-121.924</td>\n",
       "      <td>1830</td>\n",
       "      <td>155073</td>\n",
       "      <td>0</td>\n",
       "      <td>12</td>\n",
       "    </tr>\n",
       "    <tr>\n",
       "      <th>19824</th>\n",
       "      <td>4</td>\n",
       "      <td>2.5</td>\n",
       "      <td>2090</td>\n",
       "      <td>2.0</td>\n",
       "      <td>0</td>\n",
       "      <td>2</td>\n",
       "      <td>7</td>\n",
       "      <td>2090</td>\n",
       "      <td>0.0</td>\n",
       "      <td>98031</td>\n",
       "      <td>47.3986</td>\n",
       "      <td>-122.166</td>\n",
       "      <td>2090</td>\n",
       "      <td>5236</td>\n",
       "      <td>0</td>\n",
       "      <td>9</td>\n",
       "    </tr>\n",
       "  </tbody>\n",
       "</table>\n",
       "</div>"
      ],
      "text/plain": [
       "       bedrooms  bathrooms  sqft_living  floors  view  condition  grade  \\\n",
       "18090         2        2.5         1320     1.0     0          2      8   \n",
       "19824         4        2.5         2090     2.0     0          2      7   \n",
       "\n",
       "       sqft_above  sqft_basement  zipcode      lat     long  sqft_living15  \\\n",
       "18090        1320            0.0    98027  47.5157 -121.924           1830   \n",
       "19824        2090            0.0    98031  47.3986 -122.166           2090   \n",
       "\n",
       "       sqft_lot15  renovated  age  \n",
       "18090      155073          0   12  \n",
       "19824        5236          0    9  "
      ]
     },
     "execution_count": 147,
     "metadata": {},
     "output_type": "execute_result"
    }
   ],
   "source": [
    "# preview\n",
    "X_third.head(2)"
   ]
  },
  {
   "cell_type": "code",
   "execution_count": 148,
   "metadata": {},
   "outputs": [
    {
     "data": {
      "text/plain": [
       "Index(['bedrooms', 'bathrooms', 'sqft_living', 'floors', 'view', 'condition',\n",
       "       'grade', 'sqft_above', 'sqft_basement', 'zipcode', 'lat', 'long',\n",
       "       'sqft_living15', 'sqft_lot15', 'renovated', 'age'],\n",
       "      dtype='object')"
      ]
     },
     "execution_count": 148,
     "metadata": {},
     "output_type": "execute_result"
    }
   ],
   "source": [
    "X_third.columns"
   ]
  },
  {
   "cell_type": "code",
   "execution_count": 149,
   "metadata": {},
   "outputs": [
    {
     "data": {
      "text/html": [
       "<div>\n",
       "<style scoped>\n",
       "    .dataframe tbody tr th:only-of-type {\n",
       "        vertical-align: middle;\n",
       "    }\n",
       "\n",
       "    .dataframe tbody tr th {\n",
       "        vertical-align: top;\n",
       "    }\n",
       "\n",
       "    .dataframe thead th {\n",
       "        text-align: right;\n",
       "    }\n",
       "</style>\n",
       "<table border=\"1\" class=\"dataframe\">\n",
       "  <thead>\n",
       "    <tr style=\"text-align: right;\">\n",
       "      <th></th>\n",
       "      <th>sqft_living_log</th>\n",
       "      <th>sqft_above_log</th>\n",
       "      <th>sqft_living15_log</th>\n",
       "      <th>age_log</th>\n",
       "      <th>bedrooms</th>\n",
       "      <th>bathrooms</th>\n",
       "      <th>sqft_living</th>\n",
       "      <th>floors</th>\n",
       "      <th>view</th>\n",
       "      <th>condition</th>\n",
       "      <th>grade</th>\n",
       "      <th>sqft_above</th>\n",
       "      <th>sqft_basement</th>\n",
       "      <th>zipcode</th>\n",
       "      <th>lat</th>\n",
       "      <th>long</th>\n",
       "      <th>sqft_living15</th>\n",
       "      <th>sqft_lot15</th>\n",
       "      <th>renovated</th>\n",
       "      <th>age</th>\n",
       "    </tr>\n",
       "  </thead>\n",
       "  <tbody>\n",
       "    <tr>\n",
       "      <th>18090</th>\n",
       "      <td>7.185387</td>\n",
       "      <td>7.185387</td>\n",
       "      <td>7.512071</td>\n",
       "      <td>2.484907</td>\n",
       "      <td>2</td>\n",
       "      <td>2.5</td>\n",
       "      <td>1320</td>\n",
       "      <td>1.0</td>\n",
       "      <td>0</td>\n",
       "      <td>2</td>\n",
       "      <td>8</td>\n",
       "      <td>1320</td>\n",
       "      <td>0.0</td>\n",
       "      <td>98027</td>\n",
       "      <td>47.5157</td>\n",
       "      <td>-121.924</td>\n",
       "      <td>1830</td>\n",
       "      <td>155073</td>\n",
       "      <td>0</td>\n",
       "      <td>12</td>\n",
       "    </tr>\n",
       "    <tr>\n",
       "      <th>19824</th>\n",
       "      <td>7.644919</td>\n",
       "      <td>7.644919</td>\n",
       "      <td>7.644919</td>\n",
       "      <td>2.197225</td>\n",
       "      <td>4</td>\n",
       "      <td>2.5</td>\n",
       "      <td>2090</td>\n",
       "      <td>2.0</td>\n",
       "      <td>0</td>\n",
       "      <td>2</td>\n",
       "      <td>7</td>\n",
       "      <td>2090</td>\n",
       "      <td>0.0</td>\n",
       "      <td>98031</td>\n",
       "      <td>47.3986</td>\n",
       "      <td>-122.166</td>\n",
       "      <td>2090</td>\n",
       "      <td>5236</td>\n",
       "      <td>0</td>\n",
       "      <td>9</td>\n",
       "    </tr>\n",
       "  </tbody>\n",
       "</table>\n",
       "</div>"
      ],
      "text/plain": [
       "       sqft_living_log  sqft_above_log  sqft_living15_log   age_log  bedrooms  \\\n",
       "18090         7.185387        7.185387           7.512071  2.484907         2   \n",
       "19824         7.644919        7.644919           7.644919  2.197225         4   \n",
       "\n",
       "       bathrooms  sqft_living  floors  view  condition  grade  sqft_above  \\\n",
       "18090        2.5         1320     1.0     0          2      8        1320   \n",
       "19824        2.5         2090     2.0     0          2      7        2090   \n",
       "\n",
       "       sqft_basement  zipcode      lat     long  sqft_living15  sqft_lot15  \\\n",
       "18090            0.0    98027  47.5157 -121.924           1830      155073   \n",
       "19824            0.0    98031  47.3986 -122.166           2090        5236   \n",
       "\n",
       "       renovated  age  \n",
       "18090          0   12  \n",
       "19824          0    9  "
      ]
     },
     "execution_count": 149,
     "metadata": {},
     "output_type": "execute_result"
    }
   ],
   "source": [
    "#join the two dataframes\n",
    "X_third_train = cont_log.join(X_third)\n",
    "X_third_train.head(2)"
   ]
  },
  {
   "cell_type": "code",
   "execution_count": 150,
   "metadata": {},
   "outputs": [],
   "source": [
    "# need to drop the extra repeat columns that werent logged\n",
    "X_third_train.drop(columns = ['age', 'sqft_lot15', \n",
    "                              'sqft_living15', 'lat', 'long',\n",
    "                              'sqft_basement', 'sqft_above'], inplace = True)"
   ]
  },
  {
   "cell_type": "code",
   "execution_count": 151,
   "metadata": {},
   "outputs": [
    {
     "data": {
      "text/html": [
       "<div>\n",
       "<style scoped>\n",
       "    .dataframe tbody tr th:only-of-type {\n",
       "        vertical-align: middle;\n",
       "    }\n",
       "\n",
       "    .dataframe tbody tr th {\n",
       "        vertical-align: top;\n",
       "    }\n",
       "\n",
       "    .dataframe thead th {\n",
       "        text-align: right;\n",
       "    }\n",
       "</style>\n",
       "<table border=\"1\" class=\"dataframe\">\n",
       "  <thead>\n",
       "    <tr style=\"text-align: right;\">\n",
       "      <th></th>\n",
       "      <th>sqft_living_log</th>\n",
       "      <th>sqft_above_log</th>\n",
       "      <th>sqft_living15_log</th>\n",
       "      <th>age_log</th>\n",
       "      <th>bedrooms</th>\n",
       "      <th>bathrooms</th>\n",
       "      <th>sqft_living</th>\n",
       "      <th>floors</th>\n",
       "      <th>view</th>\n",
       "      <th>condition</th>\n",
       "      <th>grade</th>\n",
       "      <th>zipcode</th>\n",
       "      <th>renovated</th>\n",
       "    </tr>\n",
       "  </thead>\n",
       "  <tbody>\n",
       "    <tr>\n",
       "      <th>18090</th>\n",
       "      <td>7.185387</td>\n",
       "      <td>7.185387</td>\n",
       "      <td>7.512071</td>\n",
       "      <td>2.484907</td>\n",
       "      <td>2</td>\n",
       "      <td>2.50</td>\n",
       "      <td>1320</td>\n",
       "      <td>1.0</td>\n",
       "      <td>0</td>\n",
       "      <td>2</td>\n",
       "      <td>8</td>\n",
       "      <td>98027</td>\n",
       "      <td>0</td>\n",
       "    </tr>\n",
       "    <tr>\n",
       "      <th>19824</th>\n",
       "      <td>7.644919</td>\n",
       "      <td>7.644919</td>\n",
       "      <td>7.644919</td>\n",
       "      <td>2.197225</td>\n",
       "      <td>4</td>\n",
       "      <td>2.50</td>\n",
       "      <td>2090</td>\n",
       "      <td>2.0</td>\n",
       "      <td>0</td>\n",
       "      <td>2</td>\n",
       "      <td>7</td>\n",
       "      <td>98031</td>\n",
       "      <td>0</td>\n",
       "    </tr>\n",
       "    <tr>\n",
       "      <th>9968</th>\n",
       "      <td>7.795647</td>\n",
       "      <td>7.795647</td>\n",
       "      <td>8.019613</td>\n",
       "      <td>2.833213</td>\n",
       "      <td>3</td>\n",
       "      <td>2.50</td>\n",
       "      <td>2430</td>\n",
       "      <td>2.0</td>\n",
       "      <td>0</td>\n",
       "      <td>2</td>\n",
       "      <td>7</td>\n",
       "      <td>98030</td>\n",
       "      <td>0</td>\n",
       "    </tr>\n",
       "    <tr>\n",
       "      <th>20027</th>\n",
       "      <td>7.426549</td>\n",
       "      <td>7.222566</td>\n",
       "      <td>7.620705</td>\n",
       "      <td>2.079442</td>\n",
       "      <td>5</td>\n",
       "      <td>4.00</td>\n",
       "      <td>1680</td>\n",
       "      <td>1.0</td>\n",
       "      <td>0</td>\n",
       "      <td>2</td>\n",
       "      <td>8</td>\n",
       "      <td>98106</td>\n",
       "      <td>0</td>\n",
       "    </tr>\n",
       "    <tr>\n",
       "      <th>2135</th>\n",
       "      <td>7.501082</td>\n",
       "      <td>7.122867</td>\n",
       "      <td>7.501082</td>\n",
       "      <td>3.663562</td>\n",
       "      <td>3</td>\n",
       "      <td>2.25</td>\n",
       "      <td>1810</td>\n",
       "      <td>1.0</td>\n",
       "      <td>0</td>\n",
       "      <td>2</td>\n",
       "      <td>7</td>\n",
       "      <td>98178</td>\n",
       "      <td>0</td>\n",
       "    </tr>\n",
       "  </tbody>\n",
       "</table>\n",
       "</div>"
      ],
      "text/plain": [
       "       sqft_living_log  sqft_above_log  sqft_living15_log   age_log  bedrooms  \\\n",
       "18090         7.185387        7.185387           7.512071  2.484907         2   \n",
       "19824         7.644919        7.644919           7.644919  2.197225         4   \n",
       "9968          7.795647        7.795647           8.019613  2.833213         3   \n",
       "20027         7.426549        7.222566           7.620705  2.079442         5   \n",
       "2135          7.501082        7.122867           7.501082  3.663562         3   \n",
       "\n",
       "       bathrooms  sqft_living  floors  view  condition  grade  zipcode  \\\n",
       "18090       2.50         1320     1.0     0          2      8    98027   \n",
       "19824       2.50         2090     2.0     0          2      7    98031   \n",
       "9968        2.50         2430     2.0     0          2      7    98030   \n",
       "20027       4.00         1680     1.0     0          2      8    98106   \n",
       "2135        2.25         1810     1.0     0          2      7    98178   \n",
       "\n",
       "       renovated  \n",
       "18090          0  \n",
       "19824          0  \n",
       "9968           0  \n",
       "20027          0  \n",
       "2135           0  "
      ]
     },
     "execution_count": 151,
     "metadata": {},
     "output_type": "execute_result"
    }
   ],
   "source": [
    "X_third_train.head()"
   ]
  },
  {
   "cell_type": "code",
   "execution_count": null,
   "metadata": {
    "scrolled": true
   },
   "outputs": [],
   "source": [
    "# # reassign to third X training \n",
    "# X_third = cont_cat_log\n",
    "\n",
    "# # check\n",
    "# X_third.head()"
   ]
  },
  {
   "cell_type": "markdown",
   "metadata": {},
   "source": [
    "### Preprocessing `zipcode` via. OHE\n",
    "\n",
    "Since `zipcode` is a numerical value, it will run fine in our model. However, technically, zipcodes are nominal values and can be one-hot encoded as well. Let's convert this column similar to the `waterfront` column. "
   ]
  },
  {
   "cell_type": "code",
   "execution_count": null,
   "metadata": {
    "scrolled": true
   },
   "outputs": [],
   "source": [
    "# One hot encode categoricals\n",
    "zipcode_ohe = pd.get_dummies(X_third_train['zipcode'], drop_first=True)\n",
    "\n",
    "# Drop original zipcode column\n",
    "X_third_train.drop('zipcode', axis=1, inplace=True)\n",
    "\n",
    "#Concatenate the new dataframe with X_third\n",
    "X_third_train = pd.concat([X_third_train, zipcode_ohe], axis=1)\n",
    "\n",
    "# Visually inspect X_third\n",
    "X_third_train.head(3)"
   ]
  },
  {
   "cell_type": "markdown",
   "metadata": {},
   "source": [
    "## 3rd  Model (Removed high p-values, log numerical variables, added encoded zipcodes)"
   ]
  },
  {
   "cell_type": "code",
   "execution_count": null,
   "metadata": {
    "scrolled": true
   },
   "outputs": [],
   "source": [
    "third_model_OLS = sm.OLS(endog=y_train, exog=sm.add_constant(X_third_train)).fit()\n",
    "third_model_OLS.summary()"
   ]
  },
  {
   "cell_type": "code",
   "execution_count": null,
   "metadata": {},
   "outputs": [],
   "source": [
    "# instantiate the linear regression model\n",
    "third_model_lr = LinearRegression()\n",
    "third_model_lr\n",
    "\n",
    "# cross validate the third model\n",
    "third_model_scores = cross_validate(\n",
    "    estimator = third_model_lr,\n",
    "    X = X_third_train,\n",
    "    y = y_train,\n",
    "    return_train_score=True,\n",
    "    cv=splitter\n",
    ")\n",
    "print(\"Current Model\")\n",
    "print(\"3rd Model Train score:     \", round(third_model_scores[\"train_score\"].mean(),4))\n",
    "print(\"3rd Model Validation score:\", round(third_model_scores[\"test_score\"].mean(),4))\n",
    "print()\n",
    "print(\"2nd Model Train score:     \", round(second_model_scores[\"train_score\"].mean(),4))\n",
    "print(\"2nd Model Validation score:\", round(second_model_scores[\"test_score\"].mean(),4))\n",
    "print()\n",
    "print(\"Baseline Model\")\n",
    "print(\"Train score:     \", round(baseline_scores[\"train_score\"].mean(),4))\n",
    "print(\"Validation score:\", round(baseline_scores[\"test_score\"].mean(),4))"
   ]
  },
  {
   "cell_type": "markdown",
   "metadata": {},
   "source": [
    "**Interpretation**: Our R2 increased to 0.877 once we removed some excess predictors, log scaled our numerical variables, and OHE the zipcodes. Notably, the condition number is still high, but reduced significantly down to a lesser value compared to the 2nd model. \n",
    "\n",
    "This might mean we'll need to remove some excess predictors or examine the relationship between the predictors more closely. "
   ]
  },
  {
   "cell_type": "markdown",
   "metadata": {},
   "source": [
    "### Standard Scaling"
   ]
  },
  {
   "cell_type": "code",
   "execution_count": null,
   "metadata": {},
   "outputs": [],
   "source": [
    "# Let's create a StandardScaler object to scale our data for us.\n",
    "ss = StandardScaler()\n",
    "\n",
    "# # Now we'll apply it to our data by using the .fit() and .transform() methods.\n",
    "ss.fit(X_third_train)\n",
    "X_fourth_scaled = ss.transform(X_third_train)\n",
    "\n",
    "# need to relabel the columns after loss of name from preprocessing scaler\n",
    "X_fourth_scaled = pd.DataFrame(X_third_train, columns = X_third_train.columns)\n",
    "X_fourth_scaled"
   ]
  },
  {
   "cell_type": "markdown",
   "metadata": {},
   "source": [
    "## 4th  Model (applied Standard Scaler)"
   ]
  },
  {
   "cell_type": "code",
   "execution_count": null,
   "metadata": {},
   "outputs": [],
   "source": [
    "# fourth model after scaling\n",
    "fourth_model_OLS = sm.OLS(endog=y_train, exog=sm.add_constant(X_fourth_scaled)).fit()\n",
    "fourth_model_OLS.summary()"
   ]
  },
  {
   "cell_type": "code",
   "execution_count": null,
   "metadata": {},
   "outputs": [],
   "source": [
    "# instantiate the linear regression model\n",
    "fourth_model_lr = LinearRegression()\n",
    "fourth_model_lr\n",
    "\n",
    "# cross validate the fourth model\n",
    "fourth_model_scores = cross_validate(\n",
    "    estimator = fourth_model_lr,\n",
    "    X = X_fourth_scaled,\n",
    "    y = y_train,\n",
    "    return_train_score=True,\n",
    "    cv=splitter\n",
    ")\n",
    "print(\"Current Model\")\n",
    "print(\"4th Model Train score:     \", round(fourth_model_scores[\"train_score\"].mean(),4))\n",
    "print(\"4th Model Validation score:\", round(fourth_model_scores[\"test_score\"].mean(),4))\n",
    "print()\n",
    "print(\"3rd Model Train score:     \", round(third_model_scores[\"train_score\"].mean(),4))\n",
    "print(\"3rd Model Validation score:\", round(third_model_scores[\"test_score\"].mean(),4))\n",
    "print()\n",
    "print(\"2nd Model Train score:     \", round(second_model_scores[\"train_score\"].mean(),4))\n",
    "print(\"2nd Model Validation score:\", round(second_model_scores[\"test_score\"].mean(),4))\n",
    "print()\n",
    "print(\"Baseline Model\")\n",
    "print(\"Train score:     \", round(baseline_scores[\"train_score\"].mean(),4))\n",
    "print(\"Validation score:\", round(baseline_scores[\"test_score\"].mean(),4))"
   ]
  },
  {
   "cell_type": "markdown",
   "metadata": {},
   "source": [
    "So applying a standardized scaler does not impact the model compared to the 3rd model. Lets move on and see if we can get any better than our current R2. "
   ]
  },
  {
   "cell_type": "markdown",
   "metadata": {},
   "source": [
    "## Apply a Polynomial?"
   ]
  },
  {
   "cell_type": "code",
   "execution_count": null,
   "metadata": {},
   "outputs": [],
   "source": []
  },
  {
   "cell_type": "code",
   "execution_count": null,
   "metadata": {},
   "outputs": [],
   "source": []
  },
  {
   "cell_type": "code",
   "execution_count": null,
   "metadata": {},
   "outputs": [],
   "source": []
  },
  {
   "cell_type": "markdown",
   "metadata": {},
   "source": [
    "handle outliers\n",
    "predictions - KCHA make a profit? what dictates price\n",
    "compare the price of homes by zipcode (and keeping all else constant)"
   ]
  },
  {
   "cell_type": "code",
   "execution_count": null,
   "metadata": {},
   "outputs": [],
   "source": []
  },
  {
   "cell_type": "code",
   "execution_count": null,
   "metadata": {},
   "outputs": [],
   "source": []
  },
  {
   "cell_type": "code",
   "execution_count": null,
   "metadata": {},
   "outputs": [],
   "source": []
  },
  {
   "cell_type": "code",
   "execution_count": null,
   "metadata": {},
   "outputs": [],
   "source": []
  },
  {
   "cell_type": "code",
   "execution_count": null,
   "metadata": {},
   "outputs": [],
   "source": []
  },
  {
   "cell_type": "code",
   "execution_count": null,
   "metadata": {},
   "outputs": [],
   "source": []
  },
  {
   "cell_type": "code",
   "execution_count": null,
   "metadata": {},
   "outputs": [],
   "source": []
  },
  {
   "cell_type": "code",
   "execution_count": null,
   "metadata": {},
   "outputs": [],
   "source": []
  },
  {
   "cell_type": "code",
   "execution_count": null,
   "metadata": {},
   "outputs": [],
   "source": []
  },
  {
   "cell_type": "code",
   "execution_count": null,
   "metadata": {},
   "outputs": [],
   "source": []
  },
  {
   "cell_type": "code",
   "execution_count": null,
   "metadata": {},
   "outputs": [],
   "source": []
  },
  {
   "cell_type": "code",
   "execution_count": null,
   "metadata": {},
   "outputs": [],
   "source": []
  },
  {
   "cell_type": "code",
   "execution_count": null,
   "metadata": {},
   "outputs": [],
   "source": []
  },
  {
   "cell_type": "code",
   "execution_count": null,
   "metadata": {},
   "outputs": [],
   "source": []
  },
  {
   "cell_type": "code",
   "execution_count": null,
   "metadata": {},
   "outputs": [],
   "source": []
  },
  {
   "cell_type": "code",
   "execution_count": null,
   "metadata": {},
   "outputs": [],
   "source": []
  },
  {
   "cell_type": "code",
   "execution_count": null,
   "metadata": {},
   "outputs": [],
   "source": []
  },
  {
   "cell_type": "code",
   "execution_count": null,
   "metadata": {},
   "outputs": [],
   "source": []
  }
 ],
 "metadata": {
  "kernelspec": {
   "display_name": "Python 3",
   "language": "python",
   "name": "python3"
  },
  "language_info": {
   "codemirror_mode": {
    "name": "ipython",
    "version": 3
   },
   "file_extension": ".py",
   "mimetype": "text/x-python",
   "name": "python",
   "nbconvert_exporter": "python",
   "pygments_lexer": "ipython3",
   "version": "3.8.5"
  }
 },
 "nbformat": 4,
 "nbformat_minor": 4
}
